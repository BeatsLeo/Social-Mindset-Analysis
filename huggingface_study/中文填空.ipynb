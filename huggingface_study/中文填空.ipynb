{
 "cells": [
  {
   "cell_type": "code",
   "execution_count": 39,
   "metadata": {},
   "outputs": [],
   "source": [
    "import torch\n",
    "from transformers import AdamW\n",
    "from datasets import load_dataset\n",
    "from transformers import BertModel\n",
    "from transformers import BertTokenizer"
   ]
  },
  {
   "cell_type": "code",
   "execution_count": 40,
   "metadata": {},
   "outputs": [],
   "source": [
    "device = 'cuda' if torch.cuda.is_available() else 'cpu'"
   ]
  },
  {
   "cell_type": "markdown",
   "metadata": {},
   "source": [
    "### 定义数据集"
   ]
  },
  {
   "cell_type": "code",
   "execution_count": 41,
   "metadata": {},
   "outputs": [],
   "source": [
    "class Dataset(torch.utils.data.Dataset):\n",
    "    def __init__(self, split):\n",
    "        super().__init__()\n",
    "        dataset = load_dataset(path='seamew/ChnSentiCorp', split=split)\n",
    "\n",
    "        def f(data):\n",
    "            return len(data['text']) > 30\n",
    "        \n",
    "        self.dataset = dataset.filter(f)    # 过滤\n",
    "    \n",
    "    def __len__(self):\n",
    "        return len(self.dataset)\n",
    "\n",
    "    def __getitem__(self, idx):\n",
    "        text = self.dataset[idx]['text']\n",
    "        \n",
    "        return text"
   ]
  },
  {
   "cell_type": "code",
   "execution_count": 42,
   "metadata": {},
   "outputs": [
    {
     "name": "stderr",
     "output_type": "stream",
     "text": [
      "Found cached dataset chn_senti_corp (C:/Users/BeatsLeo/.cache/huggingface/datasets/seamew___chn_senti_corp/default/0.0.0/1f242195a37831906957a11a2985a4329167e60657c07dc95ebe266c03fdfb85)\n",
      "Loading cached processed dataset at C:/Users/BeatsLeo/.cache/huggingface/datasets/seamew___chn_senti_corp/default/0.0.0/1f242195a37831906957a11a2985a4329167e60657c07dc95ebe266c03fdfb85\\cache-9bcfb9e05326d42e.arrow\n"
     ]
    },
    {
     "data": {
      "text/plain": [
       "(9192, '15.4寸笔记本的键盘确实爽，基本跟台式机差不多了，蛮喜欢数字小键盘，输数字特方便，样子也很美观，做工也相当不错')"
      ]
     },
     "execution_count": 42,
     "metadata": {},
     "output_type": "execute_result"
    }
   ],
   "source": [
    "dataset = Dataset('train')\n",
    "\n",
    "len(dataset), dataset[1]"
   ]
  },
  {
   "cell_type": "markdown",
   "metadata": {},
   "source": [
    "### 加载tokenizer"
   ]
  },
  {
   "cell_type": "code",
   "execution_count": 43,
   "metadata": {},
   "outputs": [
    {
     "data": {
      "text/plain": [
       "PreTrainedTokenizer(name_or_path='bert-base-chinese', vocab_size=21128, model_max_len=512, is_fast=False, padding_side='right', truncation_side='right', special_tokens={'unk_token': '[UNK]', 'sep_token': '[SEP]', 'pad_token': '[PAD]', 'cls_token': '[CLS]', 'mask_token': '[MASK]'})"
      ]
     },
     "execution_count": 43,
     "metadata": {},
     "output_type": "execute_result"
    }
   ],
   "source": [
    "# 加载字典和分词工具\n",
    "token = BertTokenizer.from_pretrained('bert-base-chinese')\n",
    "\n",
    "token"
   ]
  },
  {
   "cell_type": "markdown",
   "metadata": {},
   "source": [
    "### 定义批处理函数"
   ]
  },
  {
   "cell_type": "code",
   "execution_count": 44,
   "metadata": {},
   "outputs": [],
   "source": [
    "def collate_fn(data):\n",
    "    # 编码\n",
    "    data = token.batch_encode_plus(batch_text_or_text_pairs=data, \n",
    "                                    truncation=True,\n",
    "                                    padding='max_length',\n",
    "                                    max_length=30,\n",
    "                                    return_tensors='pt',\n",
    "                                    return_length=True)\n",
    "\n",
    "    # input_ids: 编码之后的数字\n",
    "    # attention: 是补零的位置是0, 其他位置是1(padding部分不参与注意力机制计算)\n",
    "    input_ids = data['input_ids'].to(device)\n",
    "    attention_mask = data['attention_mask'].to(device)\n",
    "    token_type_ids = data['token_type_ids'].to(device)\n",
    "\n",
    "    # 把第15个词固定替换为mask\n",
    "    labels = input_ids[:, 15].reshape(-1).clone().to(device)\n",
    "    input_ids[:, 15] = token.get_vocab()[token.mask_token]\n",
    "\n",
    "    return input_ids, attention_mask, token_type_ids, labels"
   ]
  },
  {
   "cell_type": "markdown",
   "metadata": {},
   "source": [
    "### 定义数据加载器"
   ]
  },
  {
   "cell_type": "code",
   "execution_count": 45,
   "metadata": {},
   "outputs": [
    {
     "name": "stdout",
     "output_type": "stream",
     "text": [
      "574\n",
      "[CLS] 每 次 开 机 时 音 箱 都 有 杂 音 ， 必 须 [MASK] 机 重 启 才 可 以 ， 现 在 又 不 超 过 [SEP]\n",
      "关\n"
     ]
    },
    {
     "data": {
      "text/plain": [
       "(torch.Size([16, 30]),\n",
       " torch.Size([16, 30]),\n",
       " torch.Size([16, 30]),\n",
       " torch.Size([16]))"
      ]
     },
     "execution_count": 45,
     "metadata": {},
     "output_type": "execute_result"
    }
   ],
   "source": [
    "loader = torch.utils.data.DataLoader(dataset = dataset,\n",
    "                                    batch_size = 16, \n",
    "                                    collate_fn = collate_fn,\n",
    "                                    shuffle = True,\n",
    "                                    drop_last=True)\n",
    "\n",
    "for i, (input_ids, attention_mask, token_type_ids, labels) in enumerate(loader):\n",
    "    break\n",
    "\n",
    "print(len(loader))\n",
    "print(token.decode(input_ids[0]))\n",
    "print(token.decode(labels[0]))\n",
    "input_ids.shape, attention_mask.shape, token_type_ids.shape, labels.shape"
   ]
  },
  {
   "cell_type": "markdown",
   "metadata": {},
   "source": [
    "### 加载bert中文模型"
   ]
  },
  {
   "cell_type": "code",
   "execution_count": 46,
   "metadata": {},
   "outputs": [
    {
     "name": "stderr",
     "output_type": "stream",
     "text": [
      "Some weights of the model checkpoint at bert-base-chinese were not used when initializing BertModel: ['cls.seq_relationship.weight', 'cls.predictions.transform.dense.bias', 'cls.predictions.transform.LayerNorm.weight', 'cls.predictions.bias', 'cls.predictions.decoder.weight', 'cls.predictions.transform.dense.weight', 'cls.predictions.transform.LayerNorm.bias', 'cls.seq_relationship.bias']\n",
      "- This IS expected if you are initializing BertModel from the checkpoint of a model trained on another task or with another architecture (e.g. initializing a BertForSequenceClassification model from a BertForPreTraining model).\n",
      "- This IS NOT expected if you are initializing BertModel from the checkpoint of a model that you expect to be exactly identical (initializing a BertForSequenceClassification model from a BertForSequenceClassification model).\n"
     ]
    },
    {
     "data": {
      "text/plain": [
       "torch.Size([16, 30, 768])"
      ]
     },
     "execution_count": 46,
     "metadata": {},
     "output_type": "execute_result"
    }
   ],
   "source": [
    "# 加载预训练模型\n",
    "pretrained = BertModel.from_pretrained('bert-base-chinese').to(device)\n",
    "\n",
    "# 不训练, 不需要计算梯度\n",
    "for param in pretrained.parameters():\n",
    "    param.requires_grad = False\n",
    "\n",
    "# 模型试算\n",
    "out = pretrained(input_ids = input_ids,\n",
    "                attention_mask = attention_mask,\n",
    "                token_type_ids = token_type_ids)\n",
    "\n",
    "out.last_hidden_state.shape"
   ]
  },
  {
   "cell_type": "markdown",
   "metadata": {},
   "source": [
    "### 定义下游任务模型"
   ]
  },
  {
   "cell_type": "code",
   "execution_count": 47,
   "metadata": {},
   "outputs": [
    {
     "data": {
      "text/plain": [
       "torch.Size([16, 21128])"
      ]
     },
     "execution_count": 47,
     "metadata": {},
     "output_type": "execute_result"
    }
   ],
   "source": [
    "class Model(torch.nn.Module):\n",
    "    def __init__(self):\n",
    "        super().__init__()\n",
    "        self.decoder = torch.nn.Linear(768, token.vocab_size, bias=False)\n",
    "        self.bias = torch.nn.Parameter(torch.zeros(token.vocab_size))\n",
    "        self.decoder.bias = self.bias\n",
    "\n",
    "    def forward(self, input_ids, attention_mask, token_type_ids, mask_loc = 15):\n",
    "        with torch.no_grad():\n",
    "            out = pretrained(input_ids=input_ids,\n",
    "                            attention_mask=attention_mask,\n",
    "                            token_type_ids=token_type_ids)\n",
    "\n",
    "        out = self.decoder(out.last_hidden_state[:, mask_loc])\n",
    "\n",
    "        return out\n",
    "\n",
    "model = Model().to(device)\n",
    "\n",
    "model(input_ids=input_ids, attention_mask=attention_mask, token_type_ids=token_type_ids).shape"
   ]
  },
  {
   "cell_type": "markdown",
   "metadata": {},
   "source": [
    "### 训练下游任务模型"
   ]
  },
  {
   "cell_type": "code",
   "execution_count": 48,
   "metadata": {},
   "outputs": [
    {
     "name": "stderr",
     "output_type": "stream",
     "text": [
      "e:\\Anaconda\\envs\\beatsleo\\lib\\site-packages\\transformers\\optimization.py:306: FutureWarning: This implementation of AdamW is deprecated and will be removed in a future version. Use the PyTorch implementation torch.optim.AdamW instead, or set `no_deprecation_warning=True` to disable this warning\n",
      "  warnings.warn(\n"
     ]
    },
    {
     "name": "stdout",
     "output_type": "stream",
     "text": [
      "0 0 10.13753890991211 0.0\n",
      "0 50 7.677145004272461 0.375\n",
      "0 100 6.194839954376221 0.125\n",
      "0 150 5.391766548156738 0.1875\n",
      "0 200 5.27683162689209 0.3125\n",
      "0 250 3.697930097579956 0.5\n",
      "0 300 4.379644870758057 0.5\n",
      "0 350 5.089016437530518 0.25\n",
      "0 400 2.495898723602295 0.625\n",
      "0 450 4.2066450119018555 0.3125\n",
      "0 500 4.9397053718566895 0.25\n",
      "0 550 2.8925065994262695 0.5625\n",
      "1 0 2.7506492137908936 0.625\n",
      "1 50 2.4521594047546387 0.625\n",
      "1 100 3.1646573543548584 0.4375\n",
      "1 150 1.888915777206421 0.75\n",
      "1 200 1.1031101942062378 0.875\n",
      "1 250 2.2484664916992188 0.6875\n",
      "1 300 2.2036807537078857 0.6875\n",
      "1 350 3.0364530086517334 0.375\n",
      "1 400 1.3976575136184692 0.6875\n",
      "1 450 2.1122806072235107 0.625\n",
      "1 500 1.6212650537490845 0.75\n",
      "1 550 1.2603724002838135 0.75\n",
      "2 0 0.9670196175575256 0.9375\n",
      "2 50 1.4742933511734009 0.75\n",
      "2 100 1.244105577468872 0.6875\n",
      "2 150 0.8302542567253113 0.875\n",
      "2 200 0.7655669450759888 0.875\n",
      "2 250 0.8564367294311523 0.8125\n",
      "2 300 0.8216100335121155 0.75\n",
      "2 350 1.0247125625610352 0.6875\n",
      "2 400 0.8160069584846497 0.8125\n",
      "2 450 0.7759720087051392 0.9375\n",
      "2 500 1.0062061548233032 0.8125\n",
      "2 550 1.0528638362884521 0.75\n",
      "3 0 0.6440383195877075 0.875\n",
      "3 50 0.9976914525032043 0.75\n",
      "3 100 0.3936575651168823 0.9375\n",
      "3 150 0.7722407579421997 0.875\n",
      "3 200 0.49734795093536377 0.875\n",
      "3 250 0.5509510040283203 0.9375\n",
      "3 300 0.5161340236663818 0.9375\n",
      "3 350 1.0041396617889404 0.75\n",
      "3 400 0.6888578534126282 0.9375\n",
      "3 450 1.018631935119629 0.8125\n",
      "3 500 0.599359393119812 0.8125\n",
      "3 550 0.833663821220398 0.75\n",
      "4 0 0.4565642774105072 0.9375\n",
      "4 50 0.4975719451904297 0.8125\n",
      "4 100 0.15768371522426605 1.0\n",
      "4 150 0.2598380446434021 0.9375\n",
      "4 200 0.41470515727996826 1.0\n",
      "4 250 0.31977590918540955 0.9375\n",
      "4 300 0.2463807463645935 1.0\n",
      "4 350 0.2273942530155182 1.0\n",
      "4 400 0.26129740476608276 1.0\n",
      "4 450 0.2116377055644989 0.9375\n",
      "4 500 0.2992408573627472 0.9375\n",
      "4 550 0.426902711391449 0.9375\n"
     ]
    }
   ],
   "source": [
    "# 训练\n",
    "optimizer = AdamW(model.parameters(), lr=5e-4)\n",
    "criterion = torch.nn.CrossEntropyLoss().to(device)\n",
    "\n",
    "model.train()\n",
    "for epoch in range(5):\n",
    "    for i, (input_ids, attention_mask, token_type_ids, labels) in enumerate(loader):\n",
    "        out = model(input_ids=input_ids, attention_mask=attention_mask, token_type_ids=token_type_ids)\n",
    "\n",
    "        loss = criterion(out, labels)\n",
    "        loss.backward()\n",
    "        optimizer.step()\n",
    "        optimizer.zero_grad()\n",
    "\n",
    "        if(i % 50 == 0):\n",
    "            out = out.argmax(dim=1)\n",
    "            accuracy = (out == labels).sum().item() / len(labels)\n",
    "\n",
    "            print(epoch, i, loss.item(), accuracy)"
   ]
  },
  {
   "cell_type": "markdown",
   "metadata": {},
   "source": [
    "### 测试"
   ]
  },
  {
   "cell_type": "code",
   "execution_count": 49,
   "metadata": {},
   "outputs": [
    {
     "name": "stderr",
     "output_type": "stream",
     "text": [
      "Found cached dataset chn_senti_corp (C:/Users/BeatsLeo/.cache/huggingface/datasets/seamew___chn_senti_corp/default/0.0.0/1f242195a37831906957a11a2985a4329167e60657c07dc95ebe266c03fdfb85)\n",
      "Loading cached processed dataset at C:/Users/BeatsLeo/.cache/huggingface/datasets/seamew___chn_senti_corp/default/0.0.0/1f242195a37831906957a11a2985a4329167e60657c07dc95ebe266c03fdfb85\\cache-7a7e6f6e90083519.arrow\n"
     ]
    },
    {
     "name": "stdout",
     "output_type": "stream",
     "text": [
      "0\n",
      "[CLS] 集 成 显 卡, 玩 使 命 召 唤 5 等 要 求 [MASK] 高 的 游 戏 比 较 卡, 没 有 高 清 输 [SEP]\n",
      "标准:  很\n",
      "预测:  很\n",
      "1\n",
      "[CLS] 卡 梅 拉 是 之 勇 敢 的 小 鸡 简 单 而 执 [MASK] 我 喜 欢 哦 ~ 同 事 的 小 宝 宝 也 很 [SEP]\n",
      "标准:  着\n",
      "预测:  着\n",
      "2\n",
      "[CLS] 渡 假 村 周 围 景 色 不 错, 但 较 落 乡 [MASK] 硬 件 太 差, 服 务 水 准 有 待 提 高 [SEP]\n",
      "标准:  .\n",
      "预测:  ,\n",
      "3\n",
      "[CLS] 外 观 很 美 观 大 方 ， 配 置 均 衡 合 理 [MASK] 做 工 不 错 ， 屏 幕 效 果 很 棒 ， 镜 [SEP]\n",
      "标准:  ，\n",
      "预测:  ，\n",
      "4\n",
      "[CLS] 我 在 京 东 网 买 的 华 硕 笔 记 本 ， 第 [MASK] 天 就 发 现 严 重 的 问 题 ， 无 法 使 [SEP]\n",
      "标准:  二\n",
      "预测:  二\n"
     ]
    },
    {
     "data": {
      "text/plain": [
       "0.66875"
      ]
     },
     "execution_count": 49,
     "metadata": {},
     "output_type": "execute_result"
    }
   ],
   "source": [
    "def test():\n",
    "    model.eval()\n",
    "    correct = 0\n",
    "    total = 0\n",
    "\n",
    "    loader_test = torch.utils.data.DataLoader(dataset = Dataset('test'),\n",
    "                                            batch_size = 32,\n",
    "                                            collate_fn=collate_fn,\n",
    "                                            shuffle = True,\n",
    "                                            drop_last = True)\n",
    "\n",
    "    for i, (input_ids, attention_mask, token_type_ids, labels) in enumerate(loader_test):\n",
    "        if(i == 5):\n",
    "            break\n",
    "\n",
    "        print(i)\n",
    "\n",
    "        with torch.no_grad():\n",
    "            out = model(input_ids=input_ids, attention_mask=attention_mask, token_type_ids=token_type_ids)\n",
    "\n",
    "        out = out.argmax(dim=1)\n",
    "        correct += (out == labels).sum().item()\n",
    "        total += len(labels)\n",
    "\n",
    "        print(token.decode(input_ids[0]))\n",
    "        print('标准: ', token.decode(labels[0]))\n",
    "        print('预测: ', token.decode(out[0]))\n",
    "\n",
    "    return correct / total\n",
    "\n",
    "test()\n"
   ]
  },
  {
   "cell_type": "markdown",
   "metadata": {},
   "source": [
    "### 使用"
   ]
  },
  {
   "cell_type": "code",
   "execution_count": 80,
   "metadata": {},
   "outputs": [
    {
     "data": {
      "text/plain": [
       "'道'"
      ]
     },
     "execution_count": 80,
     "metadata": {},
     "output_type": "execute_result"
    }
   ],
   "source": [
    "sentence = ['太没[MASK]理']\n",
    "data = token.batch_encode_plus(batch_text_or_text_pairs=sentence, \n",
    "                                truncation=True,\n",
    "                                padding='max_length',\n",
    "                                max_length=30,\n",
    "                                return_tensors='pt',\n",
    "                                return_length=True)\n",
    "\n",
    "input_ids = data['input_ids'].to(device)\n",
    "attention_mask = data['attention_mask'].to(device)\n",
    "token_type_ids = data['token_type_ids'].to(device)\n",
    "\n",
    "out = model(input_ids=input_ids, attention_mask=attention_mask, token_type_ids=token_type_ids, mask_loc = 3)\n",
    "res = out.argmax(dim=1)\n",
    "\n",
    "token.decode(res)"
   ]
  },
  {
   "cell_type": "code",
   "execution_count": null,
   "metadata": {},
   "outputs": [],
   "source": []
  }
 ],
 "metadata": {
  "kernelspec": {
   "display_name": "Python 3.8.13 ('beatsleo')",
   "language": "python",
   "name": "python3"
  },
  "language_info": {
   "codemirror_mode": {
    "name": "ipython",
    "version": 3
   },
   "file_extension": ".py",
   "mimetype": "text/x-python",
   "name": "python",
   "nbconvert_exporter": "python",
   "pygments_lexer": "ipython3",
   "version": "3.8.13"
  },
  "orig_nbformat": 4,
  "vscode": {
   "interpreter": {
    "hash": "3c34c0319d0a309be29663e51c48d620a80f809bc34ab561fe0a7ac57c4f65c6"
   }
  }
 },
 "nbformat": 4,
 "nbformat_minor": 2
}
