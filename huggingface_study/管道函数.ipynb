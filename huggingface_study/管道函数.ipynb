{
 "cells": [
  {
   "cell_type": "code",
   "execution_count": null,
   "metadata": {},
   "outputs": [],
   "source": [
    "import torch\n",
    "import numpy as np\n",
    "from transformers import pipeline"
   ]
  },
  {
   "cell_type": "markdown",
   "metadata": {},
   "source": [
    "### Pipeline提供了一些不需要训练就能直接使用的简单模型，使用价值不太大"
   ]
  },
  {
   "cell_type": "markdown",
   "metadata": {},
   "source": [
    "#### 文本分类"
   ]
  },
  {
   "cell_type": "code",
   "execution_count": null,
   "metadata": {},
   "outputs": [],
   "source": [
    "classifier = pipeline('sentiment-analysis')\n",
    "\n",
    "result = classifier('I hate you')\n",
    "print(result)\n",
    "\n",
    "result = classifier('I love you')\n",
    "print(result)"
   ]
  },
  {
   "cell_type": "markdown",
   "metadata": {},
   "source": [
    "#### 阅读理解"
   ]
  },
  {
   "cell_type": "code",
   "execution_count": null,
   "metadata": {},
   "outputs": [],
   "source": [
    "question_answerer = pipeline('question-answering')\n",
    "\n",
    "context = r\"\"\"\n",
    "I want to talk to you, do you have time? OK, I don't think you have.\n",
    "\"\"\"\n",
    "\n",
    "result = question_answerer(question = \"What is the question?\", context = context)\n",
    "print(result)\n",
    "\n",
    "result = question_answerer(question = \"What is the answer?\", context = context)\n",
    "print(result)"
   ]
  },
  {
   "cell_type": "markdown",
   "metadata": {},
   "source": [
    "#### 完型填空"
   ]
  },
  {
   "cell_type": "code",
   "execution_count": null,
   "metadata": {},
   "outputs": [],
   "source": [
    "unmasker = pipeline('fill-mask')\n",
    "\n",
    "sentence = 'I <mask> you'\n",
    "\n",
    "print(unmasker(sentence))"
   ]
  },
  {
   "cell_type": "markdown",
   "metadata": {},
   "source": [
    "#### 文本生成"
   ]
  },
  {
   "cell_type": "code",
   "execution_count": null,
   "metadata": {},
   "outputs": [],
   "source": [
    "text_generator = pipeline('text-generation')\n",
    "\n",
    "result = text_generator('As far as I am concerned, I will', max_length=50, do_sample=False) # do_sample: beam search\n",
    "print(result)"
   ]
  },
  {
   "cell_type": "markdown",
   "metadata": {},
   "source": [
    "#### 命名实体识别\n",
    "*识别人名、地名、机构名、日期时间、专有名词等，通常包含：*\n",
    "* *实体的边界识别*\n",
    "* *确定实体的类型（人名、地名、机构名或其它）*\n",
    "\n",
    "*学术上NER所涉及的命名实体一般包括**3大类（实体类，时间类，数字类）**和**7小类（人名、地名、组织机构名、时间、日期、货币、百分比）**。*"
   ]
  },
  {
   "cell_type": "code",
   "execution_count": null,
   "metadata": {},
   "outputs": [],
   "source": [
    "ner_pipe = pipeline('ner')\n",
    "\n",
    "sequence = 'BeatsLeo, a handsome man who is working for NLP. Living in the Sichuan university. Staying up to late every day.'\n",
    "for entity in ner_pipe(sequence):\n",
    "    print(entity)"
   ]
  },
  {
   "cell_type": "markdown",
   "metadata": {},
   "source": [
    "#### 文本总结"
   ]
  },
  {
   "cell_type": "code",
   "execution_count": null,
   "metadata": {},
   "outputs": [],
   "source": [
    "summarizer = pipeline('summarization')\n",
    "article = \"\"\"\n",
    "Youth is not a time of life; it is a state of mind; it is not a matter of rosy cheeks, red lips and supple knees; it is a matter of the will, a quality of the imagination, a vigor of the emotions; it is the freshness of the deep springs of life.\n",
    "\n",
    "Youth means a temperamental predominance of courage over timidity, of the appetite for adventure over the love of ease. This often exists in a man of 60 more than a boy of 20. Nobody grows old merely by a number of years. We grow old by deserting our ideals.\n",
    "\n",
    "Years may wrinkle the skin, but to give up enthusiasm wrinkles the soul. Worry, fear, self-distrust bows the heart and turns the spirit back to dust.\n",
    "\n",
    "Whether 60 or 16, there is in every human being's heart the lure of wonders, the unfailing appetite for what's next and the joy of the game of living. In the center of your heart and my heart, there is a wireless station; so long as it receives messages of beauty, hope, courage and power from man and from the infinite, so long as you are young.\n",
    "\n",
    "When your aerials are down, and your spirit is covered with snows of cynicism and the ice of pessimism, then you've grown old, even at 20; but as long as your aerials are up, to catch waves of optimism, there's hope you may die young at 80.\n",
    "\"\"\"\n",
    "\n",
    "result = summarizer(article, max_length = 130, min_length = 30, do_sample=False)\n",
    "print(result)"
   ]
  },
  {
   "cell_type": "markdown",
   "metadata": {},
   "source": [
    "#### 翻译"
   ]
  },
  {
   "cell_type": "code",
   "execution_count": null,
   "metadata": {},
   "outputs": [],
   "source": [
    "translator = pipeline('translation_en_to_de')  # 从Huggingface上下载\n",
    "sentence = 'I am handsome'\n",
    "\n",
    "translator(sentence)"
   ]
  },
  {
   "cell_type": "markdown",
   "metadata": {},
   "source": [
    "#### 示例"
   ]
  },
  {
   "cell_type": "code",
   "execution_count": 36,
   "metadata": {},
   "outputs": [
    {
     "data": {
      "text/plain": [
       "['吾 帅 之 一 辈 也 。']"
      ]
     },
     "execution_count": 36,
     "metadata": {},
     "output_type": "execute_result"
    }
   ],
   "source": [
    "from transformers import (\n",
    "  EncoderDecoderModel,\n",
    "  AutoTokenizer\n",
    ")\n",
    "PRETRAINED = \"raynardj/wenyanwen-chinese-translate-to-ancient\"\n",
    "tokenizer = AutoTokenizer.from_pretrained(PRETRAINED)\n",
    "model = EncoderDecoderModel.from_pretrained(PRETRAINED)\n",
    "\n",
    "def inference(text):\n",
    "    tk_kwargs = dict(\n",
    "      truncation=True,\n",
    "      max_length=128,\n",
    "      padding=\"max_length\",\n",
    "      return_tensors='pt')\n",
    "   \n",
    "    inputs = tokenizer([text,],**tk_kwargs)\n",
    "    with torch.no_grad():\n",
    "        return tokenizer.batch_decode(\n",
    "            model.generate(\n",
    "            inputs.input_ids,\n",
    "            attention_mask=inputs.attention_mask,\n",
    "            num_beams=3,\n",
    "            bos_token_id=101,\n",
    "            eos_token_id=tokenizer.sep_token_id,\n",
    "            pad_token_id=tokenizer.pad_token_id,\n",
    "        ), skip_special_tokens=True)\n",
    "\n",
    "inference('我帅的一批')"
   ]
  },
  {
   "cell_type": "code",
   "execution_count": null,
   "metadata": {},
   "outputs": [],
   "source": []
  }
 ],
 "metadata": {
  "kernelspec": {
   "display_name": "beatsleo",
   "language": "python",
   "name": "beatsleo"
  },
  "language_info": {
   "codemirror_mode": {
    "name": "ipython",
    "version": 3
   },
   "file_extension": ".py",
   "mimetype": "text/x-python",
   "name": "python",
   "nbconvert_exporter": "python",
   "pygments_lexer": "ipython3",
   "version": "3.8.13 (default, Mar 28 2022, 06:59:08) [MSC v.1916 64 bit (AMD64)]"
  },
  "orig_nbformat": 4,
  "vscode": {
   "interpreter": {
    "hash": "16ea64f9ee948d927ad35fd9dd41586a042d593dc7bf73dbea6b47fb27e81f20"
   }
  }
 },
 "nbformat": 4,
 "nbformat_minor": 2
}
