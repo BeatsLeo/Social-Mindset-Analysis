{
 "cells": [
  {
   "attachments": {},
   "cell_type": "markdown",
   "metadata": {},
   "source": [
    "针对指定的文章，爬取评论，保存在“微博文章.txt”中"
   ]
  },
  {
   "cell_type": "code",
   "execution_count": 77,
   "metadata": {},
   "outputs": [],
   "source": [
    "import requests\n",
    "import re\n",
    "from lxml import etree\n",
    "import csv"
   ]
  },
  {
   "attachments": {},
   "cell_type": "markdown",
   "metadata": {},
   "source": [
    "### 信息准备"
   ]
  },
  {
   "cell_type": "code",
   "execution_count": 78,
   "metadata": {},
   "outputs": [],
   "source": [
    "headers = {\n",
    "# \"cookie\": \"BAIDU_SSP_lcr=https://cn.bing.com/; SUB=_2A25OxGW4DeRhGeBG7FsQ9SnKzzuIHXVqRwvwrDV6PUJbktANLUKhkW1NQefZ6IjAuIu5ei0HfjjD0nq8JHq62f5u; SUBP=0033WrSXqPxfM725Ws9jqgMF55529P9D9WWcUF0gHI_M8h5ywJreSgBx5NHD95Qc1hM4eK-NSoBNWs4DqcjEi--Xi-i2i-27i--Xi-zRiKy2i--Ri-z7iK.4i--NiKLWiKnXi--RiKyFi-2c1KBEeK.t; SSOLoginState=1673532904; _T_WM=55736388746; WEIBOCN_FROM=1110006030; MLOGIN=1; BAIDU_SSP_lcr=https://cn.bing.com/; __bid_n=185a8cf0148ab105024207; FPTOKEN=DFj0i4fBOm0iJp11KG1ftoOTQ7Hn88cjf3GkjuYd3hC5q+zJXAk+JWdL+jStk3FzvQ5lj+crzXrcTFC/EitxHMbGQpV/ul+BcpPtfkzhjoSSdBluN5l6cIDgL/kstqh+tQFnVgRj3cK4YEaYupHI6Kv5pLvuynkrRsUswQHwi43D07XHmDUodfrG+H3oDV0o1EDgDYpkmz4PAakm3+AWeuXZlkGtGsckl5/KHDvdhGzqttI+BKBauFax4XA/JR9p/cyJmXrw0uNbwJZZZi/NKBmzJKOQo4/giGLWcDEn69ZdLIrZm9+znSZz1uuSSwBopF5uYFly3kAkV/avB0k7hDk+ETKVNbZ+4oF/f05Y8lpV+fXDkJyCNoNM02f7afm07lsJefiBYItVdspVZ+28qQ==|QoQ/qKJIsbFv9vEcKhrMmc1BQ80s+A5E/q22MX8ChEw=|10|ecaa752b980fbae8d1349f457888ddae; M_WEIBOCN_PARAMS=oid%3D4857207622210178%26luicode%3D20000061%26lfid%3D4857207622210178; XSRF-TOKEN=cdea6b\",\n",
    "\"referer\": \"https://m.weibo.cn/\",\n",
    "\"user-agent\": \"Mozilla/5.0 (Windows NT 10.0; Win64; x64) AppleWebKit/537.36 (KHTML, like Gecko) Chrome/108.0.0.0 Safari/537.36 Edg/108.0.1462.76\"\n",
    "}\n",
    "#文章和评论的url\n",
    "text_url = 'https://m.weibo.cn/detail/4857105729459510'\n",
    "content_url = 'https://m.weibo.cn/comments/hotflow?id=4857105729459510&mid=4857105729459510&max_id_type=0'\n",
    "tmp_comtent_url = '&max_id_type=0'\n",
    "# 生成下一条url\n",
    "next_content_url = ''\n",
    "# 记录当前爬取第几次url\n",
    "get_comtent_num = 0\n",
    "\n",
    "\n",
    "# 输出的数据结构如下\n",
    "'''\n",
    "data = {\n",
    "'event': None, # 该条帖子的核心事件，以 #xxx# 的tag格式引出,若有多条,随机选择一条或选择第一条,若没有则为None\n",
    "'post': 'xxx' # 帖子的内容\n",
    "'time': 'xxxx-xx-xx', # 发布时间，\n",
    "'comments': [\n",
    "    {   'content': 'xxx' # 评论内容\n",
    "        'time': 'xxxx-xx-xx', # 评论时间\n",
    "        'ip': 'xxx' # 评论发布者的IP位置信息\n",
    "        'like': 'xxx', # 该条评论的点赞数\n",
    "    },....]\n",
    "    # 评论,以list嵌套dict的形式存储,其中一条评论的结构如图所示\n",
    "}\n",
    "\n",
    "'''\n",
    "output_data = {\n",
    "    'event': None, \n",
    "    'post': 'xxx',\n",
    "    'time': 'xxxx-xx-xx', \n",
    "    'comments': []\n",
    "}\n",
    "one_comment = {\n",
    "    'content': 'xxx', # 评论内容\n",
    "    'time': 'xxxx-xx-xx', # 评论时间\n",
    "    'ip': 'xxx' # 评论发布者的IP位置信息\n",
    "}"
   ]
  },
  {
   "attachments": {},
   "cell_type": "markdown",
   "metadata": {},
   "source": [
    "### 发起请求，获取数据"
   ]
  },
  {
   "attachments": {},
   "cell_type": "markdown",
   "metadata": {},
   "source": [
    "#### 获取文本信息"
   ]
  },
  {
   "attachments": {},
   "cell_type": "markdown",
   "metadata": {},
   "source": [
    "##### 发起请求"
   ]
  },
  {
   "cell_type": "code",
   "execution_count": 79,
   "metadata": {},
   "outputs": [],
   "source": [
    "text_resp = requests.get(text_url)\n",
    "# print(type(text_resp))\n"
   ]
  },
  {
   "cell_type": "code",
   "execution_count": 80,
   "metadata": {},
   "outputs": [],
   "source": [
    "# print(text_resp.text)"
   ]
  },
  {
   "attachments": {},
   "cell_type": "markdown",
   "metadata": {},
   "source": [
    "##### 分析数据，添加文章信息"
   ]
  },
  {
   "cell_type": "code",
   "execution_count": 81,
   "metadata": {},
   "outputs": [],
   "source": [
    "\n",
    "# content = text_resp.content.decode(\"utf8\")\n",
    "# print(content)\n",
    "# html = etree.HTML(content)\n",
    "# print(html.)\n",
    "event = 'xxx'\n",
    "post = 'xxx'\n",
    "time = 'xxxx-xx-xx'\n",
    "\n",
    "\n",
    "\n",
    "\n",
    "output_data = {\n",
    "    'event': event, \n",
    "    'post': post,\n",
    "    'time': time, \n",
    "    'comments': []\n",
    "}"
   ]
  },
  {
   "attachments": {},
   "cell_type": "markdown",
   "metadata": {},
   "source": [
    "#### 获取评论信息"
   ]
  },
  {
   "attachments": {},
   "cell_type": "markdown",
   "metadata": {},
   "source": [
    "##### 辅助函数"
   ]
  },
  {
   "cell_type": "code",
   "execution_count": 82,
   "metadata": {},
   "outputs": [],
   "source": [
    "def get_month(m_str):\n",
    "    mouth = ''\n",
    "    # print(m_str)\n",
    "    if m_str =='Jan':\n",
    "        mouth='01'\n",
    "    elif m_str =='Feb':\n",
    "        mouth='02'\n",
    "    elif m_str =='Mar':\n",
    "        mouth='03'\n",
    "    elif m_str =='Apr':\n",
    "        mouth='04'\n",
    "    elif m_str =='May':\n",
    "        mouth='05'\n",
    "    elif m_str =='Jun':\n",
    "        mouth='06'\n",
    "    elif m_str =='Jul':\n",
    "        mouth='07'\n",
    "    elif m_str =='Aug':\n",
    "        mouth='08'\n",
    "    elif m_str =='Sept':\n",
    "        mouth='09'\n",
    "    elif m_str =='Oct':\n",
    "        mouth='10'\n",
    "    elif m_str =='Nov':\n",
    "        mouth='11'\n",
    "    elif m_str =='Dec':\n",
    "        mouth='12'\n",
    "    return mouth\n",
    "\n",
    "def get_next_comtent_url(get_comtent_num,content_url,max_id,max_id_type):\n",
    "    next_comtent_url = ''\n",
    "    # print(max_id_type)\n",
    "    if(get_comtent_num == 0):\n",
    "        content_url = content_url[:-14]\n",
    "        # print(content_url)\n",
    "    else:\n",
    "        content_url_list = content_url.split('&')\n",
    "        content_url = content_url_list[0] +'&' + content_url_list[1]\n",
    "    next_comtent_url = content_url + f\"&max_id={max_id}\" + max_id_type\n",
    "    print(next_comtent_url)\n",
    "    return next_comtent_url\n"
   ]
  },
  {
   "attachments": {},
   "cell_type": "markdown",
   "metadata": {},
   "source": [
    "##### 发起请求"
   ]
  },
  {
   "cell_type": "code",
   "execution_count": 83,
   "metadata": {},
   "outputs": [
    {
     "name": "stdout",
     "output_type": "stream",
     "text": [
      "https://m.weibo.cn/comments/hotflow?id=4857105729459510&mid=4857105729459510&max_id=141476389057508&max_id_type=0\n",
      "19\n"
     ]
    }
   ],
   "source": [
    "content_resp = requests.get(content_url).json()\n",
    "# print(type(content_resp))\n",
    "# print(len(content_resp))\n",
    "# print(resp)\n",
    "tmp_data = content_resp['data']\n",
    "# print(type(tmp_data))\n",
    "# print(len(tmp_data))\n",
    "max_id = str(tmp_data['max_id'])\n",
    "max_id_type = \"&max_id_type=\"+str(tmp_data['max_id_type'])\n",
    "#生成下一组评论的url\n",
    "next_content_url = get_next_comtent_url(get_comtent_num,content_url,max_id,max_id_type)\n",
    "get_comtent_num += 1\n",
    "# print(get_comtent_num)\n",
    "# print(tmp_data)\n",
    "data = tmp_data['data']\n",
    "# print(type(data))\n",
    "print(len(data))\n",
    "# print(data)"
   ]
  },
  {
   "attachments": {},
   "cell_type": "markdown",
   "metadata": {},
   "source": [
    "##### 分析数据，添加评论"
   ]
  },
  {
   "cell_type": "code",
   "execution_count": 87,
   "metadata": {},
   "outputs": [
    {
     "name": "stdout",
     "output_type": "stream",
     "text": [
      "七天又不影响过年，复议啥啊\n",
      "果然公子哥就是不一样\n",
      "看看法大还是钱大哈哈赞\n",
      "换做别人哪会有机会提出行政复议，不都是直接拉进拘留所哈哈哈哈\n",
      "钞能力一下就体现出来了\n",
      "不明白为啥评论戾气那么重啊，对于行政处罚提起行政复议是每个公民的权利，不是因为他有钱他才能提起来，换谁挨处罚了都能。乱停车那个罚单上不都明确写着呢可以提出复议啊\n",
      "钱是个好东西\n",
      "老王在里面消停天也不是什么坏事\n",
      "有钱就能摆平\n",
      "支持拘留\n",
      "法律是保护人民群众的还是保护有钱人的？\n",
      "新一年就遇贵人，要是我，我就打开买房看看那个房子好嘻嘻\n",
      "法律面前人人不等？？？？\n",
      "轻伤不是入刑的吗\n",
      "不是有钱摆平。是有钱请了律师。懂法。\n",
      "他打人有什么奇怪的挖鼻\n",
      "放古代就一纨绔子弟\n",
      "就算进去了，直接保外就医。\n",
      "不会影响出境吧\n"
     ]
    }
   ],
   "source": [
    "for item in data:\n",
    "    # print(item)\n",
    "    # print(item['text'])\n",
    "    #评论内容\n",
    "    content = item['text']\n",
    "    # result = re.sub(r'<span.*</span>?','',content)\n",
    "    # if result:\n",
    "    #     content = result\n",
    "    content = re.sub(\"[^\\u4e00-\\u9fa5\\u3002*\\uff0c*\\uff1f*]\", \"\", content)\n",
    "    print(content)\n",
    "\n",
    "    #评论时间\n",
    "    tmp_time = item['created_at'].split()\n",
    "    # print(tmp_time)\n",
    "    # print(tmp_time[-5])\n",
    "    the_time = tmp_time[-1] + '-' + get_month(tmp_time[-5]) + '-' + tmp_time[-4]\n",
    "    #评论IP地址\n",
    "    ip = re.sub(r'来自','',item['source'])\n",
    "    # print(ip)\n",
    "    #评论点赞数\n",
    "    like = item['like_count']\n",
    "\n",
    "    #一条评论\n",
    "    one_comment = {\n",
    "    'content': content, # 评论内容\n",
    "    'time': the_time, # 评论时间\n",
    "    'ip': ip, # 评论发布者的IP位置信息\n",
    "    'like':like\n",
    "    }\n",
    "    output_data[\"comments\"].append(one_comment)"
   ]
  },
  {
   "attachments": {},
   "cell_type": "markdown",
   "metadata": {},
   "source": [
    "### 数据保存"
   ]
  },
  {
   "cell_type": "code",
   "execution_count": 85,
   "metadata": {},
   "outputs": [
    {
     "name": "stdout",
     "output_type": "stream",
     "text": [
      "{'event': 'xxx', 'post': 'xxx', 'time': 'xxxx-xx-xx', 'comments': [{'content': '七天又不影响过年，复议啥啊', 'time': '2023-01-12', 'ip': '江苏', 'like': 1926}, {'content': '果然公子哥就是不一样', 'time': '2023-01-12', 'ip': '北京', 'like': 1378}, {'content': '看看法大还是钱大哈哈赞', 'time': '2023-01-12', 'ip': '浙江', 'like': 1124}, {'content': '换做别人哪会有机会提出行政复议，不都是直接拉进拘留所哈哈哈哈', 'time': '2023-01-12', 'ip': '广东', 'like': 730}, {'content': '钞能力一下就体现出来了', 'time': '2023-01-12', 'ip': '四川', 'like': 488}, {'content': '不明白为啥评论戾气那么重啊，对于行政处罚提起行政复议是每个公民的权利，不是因为他有钱他才能提起来，换谁挨处罚了都能。乱停车那个罚单上不都明确写着呢可以提出复议啊', 'time': '2023-01-12', 'ip': '河南', 'like': 350}, {'content': '钱是个好东西', 'time': '2023-01-12', 'ip': '北京', 'like': 232}, {'content': '老王在里面消停天也不是什么坏事', 'time': '2023-01-12', 'ip': '广西', 'like': 103}, {'content': '有钱就能摆平', 'time': '2023-01-12', 'ip': '北京', 'like': 139}, {'content': '支持拘留', 'time': '2023-01-12', 'ip': '黑龙江', 'like': 98}, {'content': '法律是保护人民群众的还是保护有钱人的', 'time': '2023-01-12', 'ip': '北京', 'like': 52}, {'content': '新一年就遇贵人，要是我，我就打开买房看看那个房子好嘻嘻', 'time': '2023-01-12', 'ip': '广东', 'like': 64}, {'content': '法律面前人人不等', 'time': '2023-01-12', 'ip': '山东', 'like': 52}, {'content': '轻伤不是入刑的吗', 'time': '2023-01-12', 'ip': '云南', 'like': 46}, {'content': '不是有钱摆平。是有钱请了律师。懂法。', 'time': '2023-01-12', 'ip': '湖北', 'like': 57}, {'content': '他打人有什么奇怪的挖鼻', 'time': '2023-01-12', 'ip': '江西', 'like': 39}, {'content': '放古代就一纨绔子弟', 'time': '2023-01-12', 'ip': '湖北', 'like': 23}, {'content': '就算进去了，直接保外就医。', 'time': '2023-01-12', 'ip': '河北', 'like': 23}, {'content': '不会影响出境吧', 'time': '2023-01-12', 'ip': '山东', 'like': 14}]}\n"
     ]
    }
   ],
   "source": [
    "print(output_data)\n",
    "with open(\"微博文章.txt\",mode='a',encoding='utf-8',newline='') as f:\n",
    "    for key in output_data.keys():\n",
    "        if(key != 'comments'):\n",
    "            write_content = f\"{key}:{output_data[key]}\"\n",
    "            f.write(write_content + '\\n')\n",
    "        else:\n",
    "            f.write('comments:' + '\\n')\n",
    "            all_comments = output_data['comments']\n",
    "            for one_comment in all_comments:\n",
    "                for comment_key in one_comment.keys():\n",
    "                    comment_write_content = f\"{comment_key}:{one_comment[comment_key]}\"\n",
    "                    f.write('    '+comment_write_content + '\\n')"
   ]
  }
 ],
 "metadata": {
  "kernelspec": {
   "display_name": "web",
   "language": "python",
   "name": "python3"
  },
  "language_info": {
   "codemirror_mode": {
    "name": "ipython",
    "version": 3
   },
   "file_extension": ".py",
   "mimetype": "text/x-python",
   "name": "python",
   "nbconvert_exporter": "python",
   "pygments_lexer": "ipython3",
   "version": "3.8.15"
  },
  "orig_nbformat": 4,
  "vscode": {
   "interpreter": {
    "hash": "279cfd725bad875b8420b6d51b0a2e7100c016138e8b65746b31ba14437dbd39"
   }
  }
 },
 "nbformat": 4,
 "nbformat_minor": 2
}
