{
 "cells": [
  {
   "cell_type": "code",
   "execution_count": 8,
   "metadata": {},
   "outputs": [],
   "source": [
    "import json\n",
    "import torch\n",
    "from tqdm import tqdm\n",
    "from transformers import BertTokenizer, GPT2LMHeadModel"
   ]
  },
  {
   "cell_type": "code",
   "execution_count": 9,
   "metadata": {},
   "outputs": [
    {
     "data": {
      "text/plain": [
       "'cuda'"
      ]
     },
     "execution_count": 9,
     "metadata": {},
     "output_type": "execute_result"
    }
   ],
   "source": [
    "device = 'cuda' if(torch.cuda.is_available()) else 'cpu'\n",
    "device"
   ]
  },
  {
   "attachments": {},
   "cell_type": "markdown",
   "metadata": {},
   "source": [
    "### 加载模型"
   ]
  },
  {
   "cell_type": "code",
   "execution_count": 11,
   "metadata": {},
   "outputs": [],
   "source": [
    "model = GPT2LMHeadModel.from_pretrained(\"uer/gpt2-chinese-cluecorpussmall\")\n",
    "tokenizer = BertTokenizer.from_pretrained(\"uer/gpt2-chinese-cluecorpussmall\")"
   ]
  },
  {
   "attachments": {},
   "cell_type": "markdown",
   "metadata": {},
   "source": [
    "### 数据集"
   ]
  },
  {
   "cell_type": "code",
   "execution_count": 6,
   "metadata": {},
   "outputs": [],
   "source": [
    "class Dataset(torch.utils.data.Dataset):\n",
    "    def __init__(self, data):\n",
    "        \"\"\"输入data格式:\n",
    "            [{'event': '......', 'attitude': '......', 'suggestion': ...}, {}, ..., {}]\n",
    "        \"\"\"\n",
    "        super().__init__()\n",
    "        \n",
    "        self.base_prompt = '对于\"{}\"这件事，大家都表现出\"{}\"的心态。对于此心态的出现，引导建议为：\\n'\n",
    "        self.data = []\n",
    "        for d in data:\n",
    "            prompt = self.base_prompt.format(d['event'], d['attitude'])\n",
    "            suggestion = d['suggestion']\n",
    "            self.data.append({'prompt': prompt, 'suggestion': suggestion})\n",
    "        \n",
    "        test_rate = 0.1\n",
    "        self.train_data = self.data[:int(len(self.data) * (1-test_rate))]\n",
    "        self.valid_data = self.data[int(len(self.data) * (1-test_rate)):]\n",
    "        \n",
    "        self.train = True\n",
    "    \n",
    "    def __len__(self):\n",
    "        if(self.train):\n",
    "            return len(self.train_data)\n",
    "        else:\n",
    "            return len(self.valid_data)\n",
    "    \n",
    "    def __getitem__(self, idx):\n",
    "        if(self.train):\n",
    "            return self.train_data[idx]\n",
    "        else:\n",
    "            return self.valid_data[idx]\n",
    "\n",
    "data = json.load(open('./dataset/lead_opinions/suggestion.json', 'r', encoding='utf-8')) + json.load(open('./dataset/lead_opinions/total_chatgpt.json', 'r', encoding='utf-8'))\n",
    "dataset = Dataset(data)"
   ]
  },
  {
   "cell_type": "code",
   "execution_count": 5,
   "metadata": {},
   "outputs": [],
   "source": [
    "def collate_fn(data):\n",
    "    text = [(i['prompt'] + i['suggestion']).replace('\\n', '[SEP]') for i in data]\n",
    "    labels = [i for i in text]\n",
    "    \n",
    "    text = tokenizer.batch_encode_plus(text, return_tensors=\"pt\", padding=True, add_special_tokens=True, max_length=512, truncation=True)\n",
    "    labels = tokenizer.batch_encode_plus(labels, return_tensors=\"pt\", padding=True, return_attention_mask=True, add_special_tokens=True)\n",
    "    \n",
    "    data = {}\n",
    "    data['input_ids'] = text['input_ids'][:,1:].to(device)\n",
    "    data['attention_mask'] = text['attention_mask'][:,1:].to(device)\n",
    "    data['labels'] = labels['input_ids'][:,1:].to(device)\n",
    "\n",
    "    return data\n",
    "\n",
    "loader = torch.utils.data.DataLoader(dataset=dataset,\n",
    "                                     batch_size=16,\n",
    "                                     collate_fn=collate_fn,\n",
    "                                     drop_last=True)"
   ]
  },
  {
   "attachments": {},
   "cell_type": "markdown",
   "metadata": {},
   "source": [
    "### 训练"
   ]
  },
  {
   "cell_type": "code",
   "execution_count": null,
   "metadata": {},
   "outputs": [],
   "source": [
    "def train(model, epoches, lr):\n",
    "    lens = len(loader)\n",
    "    model = model.to(device)\n",
    "    optim = torch.optim.AdamW(model.parameters(), lr=lr)\n",
    "    losses = torch.zeros((epoches, lens))\n",
    "    for i in range(epoches):\n",
    "        with tqdm(total=lens, ncols=100) as bar:\n",
    "            bar.set_description('训练进度-epoch: {}/{}'.format(i+1,epoches))\n",
    "            for n,d in enumerate(loader):\n",
    "                loss = model(**d)['loss']\n",
    "                loss.backward()\n",
    "                optim.step()\n",
    "                optim.zero_grad()\n",
    "                 \n",
    "                losses[i,n] += loss.item()\n",
    "                bar.update(1)\n",
    "            bar.set_postfix(loss = '{:.4f}'.format(losses[i].mean().item()))\n",
    "    model.cpu()\n",
    "    return losses\n",
    "\n",
    "losses = train(model, 10, 2e-5)\n",
    "torch.save(model, './models/lead_opinions2.model')"
   ]
  },
  {
   "cell_type": "markdown",
   "metadata": {},
   "source": [
    "### 使用"
   ]
  },
  {
   "cell_type": "code",
   "execution_count": 13,
   "metadata": {},
   "outputs": [],
   "source": [
    "# 导入模型\n",
    "model = torch.load('./models/lead_opinions.model')"
   ]
  },
  {
   "cell_type": "code",
   "execution_count": 29,
   "metadata": {},
   "outputs": [
    {
     "name": "stderr",
     "output_type": "stream",
     "text": [
      "The attention mask and the pad token id were not set. As a consequence, you may observe unexpected behavior. Please pass your input's `attention_mask` to obtain reliable results.\n",
      "Setting `pad_token_id` to `eos_token_id`:50256 for open-end generation.\n"
     ]
    },
    {
     "name": "stdout",
     "output_type": "stream",
     "text": [
      "API生成:  对于\"疫情放开了\"这件事，大家都表现出\"高兴\"的心态。对于此心态的出现，引导建议为：\n",
      "1.强调安全第一：提醒大家疫情防控和防疫措施要落实到位，并进一步加强自身的健康保障和健康风险管理。\n",
      "2.鼓励政府、企业、社会等渠道合作：鼓励地方政府、企业和社会组织积极参与疫情防控工作，通过协作和合作形成一个更加完善的保障体系，实现全民共享的疫情防控局面。\n",
      "3.提倡心理疏导和支持：鼓励大家积极参与心理疏导和支持活动，通过送上温暖和鼓励，带领大家度过疫情的寒冬，重新振作起来。\n",
      "4.引导理性看待：提醒大家要理性看待疫情，不传播谣言和不良信息，积极传播正能量和正能量，助力社会和谐稳定发展。\n"
     ]
    }
   ],
   "source": [
    "model.eval().cpu()\n",
    "\n",
    "event = '疫情放开了'\n",
    "attitude = '高兴'\n",
    "message = dataset.base_prompt.format(event, attitude)\n",
    "inputs = tokenizer.encode_plus(message, return_tensors='pt', add_special_tokens=True)\n",
    "\n",
    "output = tokenizer.decode(model.generate(inputs['input_ids'], max_length=350, do_sample=True)[0])\n",
    "output = output.replace(' ', '').replace('1', '\\n1').replace('2', '\\n2').replace('3', '\\n3').replace('4', '\\n4').replace('5', '\\n5').strip()\n",
    "pure = output[:output.find('[PAD]')].replace('[CLS]', '').replace('[SEP]', '')\n",
    "print('API生成: ', pure)"
   ]
  },
  {
   "cell_type": "code",
   "execution_count": null,
   "metadata": {},
   "outputs": [],
   "source": []
  }
 ],
 "metadata": {
  "kernelspec": {
   "display_name": "isps",
   "language": "python",
   "name": "python3"
  },
  "language_info": {
   "codemirror_mode": {
    "name": "ipython",
    "version": 3
   },
   "file_extension": ".py",
   "mimetype": "text/x-python",
   "name": "python",
   "nbconvert_exporter": "python",
   "pygments_lexer": "ipython3",
   "version": "3.8.13"
  },
  "orig_nbformat": 4,
  "vscode": {
   "interpreter": {
    "hash": "8486794328cfcc2cb332d4b8a0be7eefe604ab39976dd3551ed661a77c4a469b"
   }
  }
 },
 "nbformat": 4,
 "nbformat_minor": 2
}
