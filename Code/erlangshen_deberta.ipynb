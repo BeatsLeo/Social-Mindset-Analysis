{
 "cells": [
  {
   "cell_type": "code",
   "execution_count": 8,
   "metadata": {},
   "outputs": [],
   "source": [
    "import json\n",
    "import torch\n",
    "import random\n",
    "from ltp import LTP\n",
    "from tqdm import tqdm\n",
    "from settings import *\n",
    "from transformers import AutoModel, AutoTokenizer, logging"
   ]
  },
  {
   "cell_type": "code",
   "execution_count": null,
   "metadata": {},
   "outputs": [],
   "source": [
    "NAME_TABLE = {\n",
    "    'None': 0, '时间': 1,  '地点': 2,  '触发词': 3,  '人物': 4, '物品': 5, '动作': 6, \n",
    "    '事物': 7, '机构': 8, '数量': 9, '单位': 10, '原因': 11, '分隔词': 12, '开/尾': 13\n",
    "}\n",
    "\n",
    "device = 'cuda' if(torch.cuda.is_available()) else 'cpu'"
   ]
  },
  {
   "cell_type": "markdown",
   "metadata": {},
   "source": [
    "### 加载模型"
   ]
  },
  {
   "cell_type": "code",
   "execution_count": null,
   "metadata": {},
   "outputs": [],
   "source": [
    "logging.set_verbosity_error()   # 消除未使用权重的warning\n",
    "\n",
    "ltp = LTP().to(device)\n",
    "pretrain=AutoModel.from_pretrained('IDEA-CCNL/Erlangshen-DeBERTa-v2-320M-Chinese')\n",
    "tokenizer=AutoTokenizer.from_pretrained('IDEA-CCNL/Erlangshen-DeBERTa-v2-320M-Chinese', use_fast=False)\n",
    "tokenizer.add_special_tokens({'additional_special_tokens': list(set(POSNAME.values()))})\n",
    "pretrain.resize_token_embeddings(len(tokenizer.get_vocab()))"
   ]
  },
  {
   "attachments": {},
   "cell_type": "markdown",
   "metadata": {},
   "source": [
    "### 数据集"
   ]
  },
  {
   "cell_type": "code",
   "execution_count": null,
   "metadata": {},
   "outputs": [],
   "source": [
    "def read_from_jsonl(path):\n",
    "    with open(path, encoding='utf-8') as f:\n",
    "        data = []\n",
    "        for line in f:\n",
    "            line_js = json.loads(line)\n",
    "            data.append(line_js) \n",
    "    return data\n",
    "\n",
    "def process_doccano(data):\n",
    "    data = [{'text':d['text'], 'label': d['label']} for d in data]\n",
    "    # 给原句子打好标签\n",
    "    for d in data:\n",
    "        d['label_list'] = torch.zeros(len(d['text']), dtype=torch.long)\n",
    "        for l in d['label']:\n",
    "            d['label_list'][l[0]:l[1]] = NAME_TABLE[l[2]]\n",
    "            \n",
    "        d['label_list'] = d['label_list'].tolist()\n",
    "        del d['label']\n",
    "        \n",
    "    return data\n",
    "\n",
    "def process_chatgpt(data):\n",
    "    data = [{'text':d['text'], 'label_list': d['label']} for d in data]\n",
    "    \n",
    "    return data"
   ]
  },
  {
   "cell_type": "code",
   "execution_count": null,
   "metadata": {},
   "outputs": [],
   "source": [
    "class Dataset(torch.utils.data.Dataset):\n",
    "    def __init__(self, data):\n",
    "        \"\"\"输入data格式: \n",
    "            [{'text':xxx, 'label_list':[x, x, ..., x]},\n",
    "             {'text':xxx, 'label_list':[x, x, ..., x]},\n",
    "             {'text':xxx, 'label_list':[x, x, ..., x]},\n",
    "             ...]\n",
    "        \"\"\"\n",
    "        \n",
    "        super().__init__()\n",
    "        random.shuffle(data)\n",
    "        \n",
    "        # 将原句子与对应标签分词\n",
    "        for d in data:\n",
    "            words, pos = ltp.pipeline(d['text'], tasks = ['cws', 'pos'], return_dict = False)\n",
    "            text, lable = '', []\n",
    "            begin = 0\n",
    "            for i in range(len(words)):\n",
    "                text = text + POSNAME[pos[i]] + words[i]\n",
    "                lable.append([12] + d['label_list'][begin:begin+len(words[i])])\n",
    "                begin = begin + len(words[i])\n",
    "            d['text'], d['label_list'] = text, sum(lable, [])\n",
    "        \n",
    "        \n",
    "        train_len = int(0.9 * len(data))\n",
    "        self.train_data = data[:train_len]\n",
    "        self.test_data = data[train_len:]\n",
    "        \n",
    "        self.train = True\n",
    "        \n",
    "    def __len__(self):\n",
    "        if(self.train):\n",
    "            return len(self.train_data)\n",
    "        else:\n",
    "            return len(self.test_data)\n",
    "        \n",
    "    def __getitem__(self, idx):\n",
    "        if(self.train):\n",
    "            return self.train_data[idx]\n",
    "        else:\n",
    "            return self.test_data[idx]\n",
    "\n",
    "data_doccano = read_from_jsonl('./dataset/name_recognition/all.jsonl')\n",
    "data_doccano = process_doccano(data_doccano)\n",
    "\n",
    "data_chatgpt = json.load(open('./dataset/name_recognition/ChatGPT/gpt_label.json', 'r', encoding='utf-8'))\n",
    "data_chatgpt = process_chatgpt(data_chatgpt)\n",
    "dataset = Dataset(data_doccano + data_chatgpt)"
   ]
  },
  {
   "cell_type": "code",
   "execution_count": null,
   "metadata": {},
   "outputs": [],
   "source": [
    "def collate_fn(data):\n",
    "    text = [d['text'] for d in data]\n",
    "    labels = [d['label_list'] for d in data]\n",
    "    \n",
    "    contents = tokenizer.batch_encode_plus(batch_text_or_text_pairs=text, return_tensors=\"pt\", padding=True, add_special_tokens=True, return_token_type_ids=False)\n",
    "\n",
    "    data = {}\n",
    "    data['input_ids'] = contents['input_ids'].to(device)\n",
    "    data['attention_mask'] = contents['attention_mask'].to(device)\n",
    "    # 将label补齐\n",
    "    lens = contents['input_ids'].shape[1]\n",
    "    for l in range(len(labels)):\n",
    "        labels[l] = [13] + labels[l]\n",
    "        labels[l] += [13] * lens\n",
    "        labels[l] = labels[l][:lens]\n",
    "    \n",
    "    data['labels'] = torch.tensor(labels, dtype=torch.long).to(device)\n",
    "\n",
    "    return data\n",
    "\n",
    "loader = torch.utils.data.DataLoader(dataset=dataset,\n",
    "                                     batch_size=16,\n",
    "                                     collate_fn=collate_fn,\n",
    "                                     drop_last=True)"
   ]
  },
  {
   "cell_type": "markdown",
   "metadata": {},
   "source": [
    "### 模型"
   ]
  },
  {
   "cell_type": "code",
   "execution_count": null,
   "metadata": {},
   "outputs": [],
   "source": [
    "class DebertaModel(torch.nn.Module):\n",
    "    def __init__(self):\n",
    "        super().__init__()\n",
    "        self.pretrain = pretrain\n",
    "        self.transform = torch.nn.Sequential(\n",
    "            torch.nn.Linear(1024, 1024),\n",
    "            torch.nn.GELU(),\n",
    "            torch.nn.LayerNorm(1024, eps=1e-07, elementwise_affine=True)\n",
    "        )\n",
    "        self.decoder = torch.nn.Linear(1024, 14)\n",
    "        self.criterion = torch.nn.CrossEntropyLoss()\n",
    "        \n",
    "    def forward(self, input_ids, attention_mask=None, labels=None):\n",
    "        rt = {'loss': None, 'cls': None}\n",
    "        \n",
    "        out = self.pretrain(input_ids=input_ids, attention_mask=attention_mask)['last_hidden_state']\n",
    "        out = self.transform(out)\n",
    "        out = self.decoder(out)\n",
    "        \n",
    "        select = attention_mask.reshape(-1) == 1\n",
    "        # [b, lens, 14] -> [b*lens, 14]\n",
    "        out = out.reshape(-1, 14)\n",
    "        out = out[select]\n",
    "        rt['cls'] = out\n",
    "                \n",
    "        if(labels is not None):\n",
    "            # [b, lens] -> [b*lens]\n",
    "            labels = labels.reshape(-1)\n",
    "            labels = labels[select]\n",
    "            rt['loss'] = self.criterion(out, labels)\n",
    "        return rt\n",
    "\n",
    "model = DebertaModel()"
   ]
  },
  {
   "cell_type": "markdown",
   "metadata": {},
   "source": [
    "### 训练"
   ]
  },
  {
   "cell_type": "code",
   "execution_count": null,
   "metadata": {},
   "outputs": [],
   "source": [
    "def train(model, epoches, lr):\n",
    "    lens = len(loader)\n",
    "    dataset.train = True\n",
    "    model = model.train().to(device)\n",
    "    optim = torch.optim.AdamW(model.parameters(), lr=lr)\n",
    "    \n",
    "    losses = torch.zeros((epoches, lens))\n",
    "    for i in range(epoches):\n",
    "        with tqdm(total=lens, ncols=80) as bar:\n",
    "            bar.set_description('训练进度-epoch: {}/{}'.format(i+1,epoches))\n",
    "            for n,d in enumerate(loader):\n",
    "                loss = model(**d)['loss']\n",
    "                loss.backward()\n",
    "                optim.step()\n",
    "                optim.zero_grad()\n",
    "                \n",
    "                losses[i,n] += loss.item()\n",
    "                bar.update(1)\n",
    "                \n",
    "            bar.set_postfix(loss = '{:.4f}'.format(losses[i].mean().item()))\n",
    "    \n",
    "    model.eval().cpu()\n",
    "    return losses\n",
    "  \n",
    "losses = train(model, 5, 2e-5)\n",
    "torch.save(model, './models/named_entity_recognition2.model')"
   ]
  },
  {
   "cell_type": "markdown",
   "metadata": {},
   "source": [
    "### 使用"
   ]
  },
  {
   "cell_type": "code",
   "execution_count": null,
   "metadata": {},
   "outputs": [],
   "source": [
    "def recognize(model, text):\n",
    "    model = model.eval()\n",
    "    # 分词\n",
    "    words, pos = ltp.pipeline(text, tasks = ['cws', 'pos'], return_dict = False)  \n",
    "    text = ''\n",
    "    for i in range(len(words)):\n",
    "        text = text + POSNAME[pos[i]] + words[i]\n",
    "    # 输入模型\n",
    "    inputs = tokenizer.encode_plus(text=text, return_tensors=\"pt\", padding=True, add_special_tokens=True, return_token_type_ids=False)\n",
    "    out = model(**inputs)['cls']\n",
    "    res = out.argmax(dim=1)\n",
    "    names = []\n",
    "    for i in res:\n",
    "        names.append(list(NAME_TABLE.keys())[i.item()])\n",
    "    return names"
   ]
  },
  {
   "cell_type": "code",
   "execution_count": null,
   "metadata": {},
   "outputs": [],
   "source": [
    "# 导入模型\n",
    "model = torch.load('./models/named_entity_recognition.model')"
   ]
  },
  {
   "cell_type": "code",
   "execution_count": null,
   "metadata": {},
   "outputs": [],
   "source": [
    "text = '机场航站楼门口偶遇鞠婧祎鞠婧祎这腰比我腿都细本人真的好美！！'\n",
    "print(*recognize(model, text))"
   ]
  },
  {
   "attachments": {},
   "cell_type": "markdown",
   "metadata": {},
   "source": [
    "### 测试"
   ]
  },
  {
   "cell_type": "code",
   "execution_count": null,
   "metadata": {},
   "outputs": [],
   "source": [
    "def precision(model, dataset):\n",
    "    total = correct = 0\n",
    "    model = model.eval().to(device)\n",
    "    dataset.train = False\n",
    "    loader = torch.utils.data.DataLoader(dataset=dataset, batch_size=4, collate_fn=collate_fn, drop_last=True)\n",
    "\n",
    "    for inputs in tqdm(loader):\n",
    "        out = model(**inputs)['cls']\n",
    "        res = out.argmax(dim=1)\n",
    "        # 选择label\n",
    "        select = inputs['attention_mask'].reshape(-1) == 1\n",
    "        std = inputs['labels'].reshape(-1)[select]\n",
    "        # 计算正确数\n",
    "        correct += ((std == res) & (std != 12) & (std != 13)).sum()\n",
    "        total += len(std)\n",
    "        \n",
    "    model = model.cpu()\n",
    "    return correct / total\n",
    "\n",
    "precision(model, dataset)"
   ]
  },
  {
   "cell_type": "code",
   "execution_count": null,
   "metadata": {},
   "outputs": [],
   "source": []
  }
 ],
 "metadata": {
  "kernelspec": {
   "display_name": "beatsleo",
   "language": "python",
   "name": "python3"
  },
  "language_info": {
   "codemirror_mode": {
    "name": "ipython",
    "version": 3
   },
   "file_extension": ".py",
   "mimetype": "text/x-python",
   "name": "python",
   "nbconvert_exporter": "python",
   "pygments_lexer": "ipython3",
   "version": "3.8.13"
  },
  "orig_nbformat": 4,
  "vscode": {
   "interpreter": {
    "hash": "3c34c0319d0a309be29663e51c48d620a80f809bc34ab561fe0a7ac57c4f65c6"
   }
  }
 },
 "nbformat": 4,
 "nbformat_minor": 2
}
