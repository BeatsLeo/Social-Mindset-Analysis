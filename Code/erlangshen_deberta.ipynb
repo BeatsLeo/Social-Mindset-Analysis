{
 "cells": [
  {
   "cell_type": "code",
   "execution_count": null,
   "metadata": {},
   "outputs": [],
   "source": [
    "import json\n",
    "import torch\n",
    "import random\n",
    "from tqdm import tqdm\n",
    "from transformers import AutoModel, AutoTokenizer, logging"
   ]
  },
  {
   "cell_type": "code",
   "execution_count": null,
   "metadata": {},
   "outputs": [],
   "source": [
    "NAME_TABLE = {\n",
    "    'None': 0, '时间': 1,  '地点': 2,  '触发词': 3,  '人物': 4, '物品': 5,\n",
    "    '动作': 6, '事物': 7, '机构': 8, '数量': 9, '单位': 10, '原因': 11, '开/尾': 12\n",
    "}\n",
    "\n",
    "device = 'cuda' if(torch.cuda.is_available()) else 'cpu'\n",
    "device = 'cpu'"
   ]
  },
  {
   "cell_type": "markdown",
   "metadata": {},
   "source": [
    "### 加载模型"
   ]
  },
  {
   "cell_type": "code",
   "execution_count": null,
   "metadata": {},
   "outputs": [],
   "source": [
    "logging.set_verbosity_error()   # 消除未使用权重的warning\n",
    "\n",
    "pretrain=AutoModel.from_pretrained('IDEA-CCNL/Erlangshen-DeBERTa-v2-320M-Chinese')\n",
    "tokenizer=AutoTokenizer.from_pretrained('IDEA-CCNL/Erlangshen-DeBERTa-v2-320M-Chinese', use_fast=False)"
   ]
  },
  {
   "attachments": {},
   "cell_type": "markdown",
   "metadata": {},
   "source": [
    "### 数据集"
   ]
  },
  {
   "cell_type": "code",
   "execution_count": null,
   "metadata": {},
   "outputs": [],
   "source": [
    "def read_from_jsonl(path):\n",
    "    with open(path) as f:\n",
    "        data = []\n",
    "        for line in f:\n",
    "            line_js = json.loads(line)\n",
    "            data.append(line_js)        \n",
    "    return data"
   ]
  },
  {
   "cell_type": "code",
   "execution_count": null,
   "metadata": {},
   "outputs": [],
   "source": [
    "class Dataset(torch.utils.data.Dataset):\n",
    "    def __init__(self, data):\n",
    "        \"\"\"输入data格式: \n",
    "            [{'id':xxx, 'text':xxx, 'label':[[x,x,xx],..., [x,x,xx] ], 'Comments':[]},\n",
    "             {'id':xxx, 'text':xxx, 'label':[[x,x,xx],..., [x,x,xx] ], 'Comments':[]},\n",
    "             {'id':xxx, 'text':xxx, 'label':[[x,x,xx],..., [x,x,xx] ], 'Comments':[]},\n",
    "             ...]\n",
    "        \"\"\"\n",
    "        \n",
    "        super().__init__()\n",
    "        data = [{'text':d['text'], 'label': d['label']} for d in data]\n",
    "        random.shuffle(data)\n",
    "        \n",
    "        for d in data:\n",
    "            d['label_list'] = torch.zeros(len(d['text']), dtype=torch.long)\n",
    "            for l in d['label']:\n",
    "                d['label_list'][l[0]:l[1]] = NAME_TABLE[l[2]]\n",
    "                \n",
    "            d['label_list'] = d['label_list'].tolist()\n",
    "            del d['label']\n",
    "        \n",
    "        \n",
    "        train_len = int(0.9 * len(data))\n",
    "        self.train_data = data[:train_len]\n",
    "        self.test_data = data[train_len:]\n",
    "        \n",
    "        self.train = True\n",
    "        \n",
    "    def __len__(self):\n",
    "        if(self.train):\n",
    "            return len(self.train_data)\n",
    "        else:\n",
    "            return len(self.test_data)\n",
    "        \n",
    "    def __getitem__(self, idx):\n",
    "        if(self.train):\n",
    "            return self.train_data[idx]\n",
    "        else:\n",
    "            return self.test_data[idx]\n",
    "\n",
    "data = read_from_jsonl('./dataset/name_recognition/all.jsonl')\n",
    "dataset = Dataset(data)"
   ]
  },
  {
   "cell_type": "code",
   "execution_count": null,
   "metadata": {},
   "outputs": [],
   "source": [
    "def collate_fn(data):\n",
    "    text = [d['text'] for d in data]\n",
    "    labels = [d['label_list'] for d in data]\n",
    "    \n",
    "    contents = tokenizer.batch_encode_plus(batch_text_or_text_pairs=text, return_tensors=\"pt\", padding=True, add_special_tokens=True, return_token_type_ids=False)\n",
    "\n",
    "    data = {}\n",
    "    data['input_ids'] = contents['input_ids'].to(device)\n",
    "    data['attention_mask'] = contents['attention_mask'].to(device)\n",
    "    # 将label补齐\n",
    "    lens = contents['input_ids'].shape[1]\n",
    "    for l in range(len(labels)):\n",
    "        labels[l] = [12] + labels[l]\n",
    "        labels[l] += [12] * lens\n",
    "        labels[l] = labels[l][:lens]\n",
    "    \n",
    "    data['labels'] = torch.tensor(labels, dtype=torch.long).to(device)\n",
    "\n",
    "    return data\n",
    "\n",
    "loader = torch.utils.data.DataLoader(dataset=dataset,\n",
    "                                     batch_size=4,\n",
    "                                     collate_fn=collate_fn,\n",
    "                                     drop_last=True)"
   ]
  },
  {
   "cell_type": "markdown",
   "metadata": {},
   "source": [
    "### 模型"
   ]
  },
  {
   "cell_type": "code",
   "execution_count": null,
   "metadata": {},
   "outputs": [],
   "source": [
    "class DebertaModel(torch.nn.Module):\n",
    "    def __init__(self):\n",
    "        super().__init__()\n",
    "        self.pretrain = pretrain\n",
    "        self.transform = torch.nn.Sequential(\n",
    "            torch.nn.Linear(1024, 1024),\n",
    "            torch.nn.GELU(),\n",
    "            torch.nn.LayerNorm(1024, eps=1e-07, elementwise_affine=True)\n",
    "        )\n",
    "        self.decoder = torch.nn.Linear(1024, 13)\n",
    "        self.criterion = torch.nn.CrossEntropyLoss()\n",
    "        \n",
    "    def forward(self, input_ids, attention_mask=None, labels=None):\n",
    "        rt = {'loss': None, 'cls': None}\n",
    "        \n",
    "        out = self.pretrain(input_ids=input_ids, attention_mask=attention_mask)['last_hidden_state']\n",
    "        out = self.transform(out)\n",
    "        out = self.decoder(out)\n",
    "        \n",
    "        select = attention_mask.reshape(-1) == 1\n",
    "        # [b, lens, 13] -> [b*lens, 13]\n",
    "        out = out.reshape(-1, 13)\n",
    "        out = out[select]\n",
    "        rt['cls'] = out\n",
    "                \n",
    "        if(labels is not None):\n",
    "            # [b, lens] -> [b*lens]\n",
    "            labels = labels.reshape(-1)\n",
    "            labels = labels[select]\n",
    "            rt['loss'] = self.criterion(out, labels)\n",
    "        return rt\n",
    "\n",
    "model = DebertaModel()"
   ]
  },
  {
   "cell_type": "markdown",
   "metadata": {},
   "source": [
    "### 训练"
   ]
  },
  {
   "cell_type": "code",
   "execution_count": null,
   "metadata": {},
   "outputs": [],
   "source": [
    "def train(model, epoches, lr):\n",
    "    lens = len(loader)\n",
    "    model = model.train().to(device)\n",
    "    optim = torch.optim.AdamW(model.parameters(), lr=lr)\n",
    "    \n",
    "    losses = torch.zeros((epoches, lens))\n",
    "    for i in range(epoches):\n",
    "        with tqdm(total=lens, ncols=80) as bar:\n",
    "            bar.set_description('训练进度-epoch: {}/{}'.format(i+1,epoches))\n",
    "            for n,d in enumerate(loader):\n",
    "                loss = model(**d)['loss']\n",
    "                loss.backward()\n",
    "                optim.step()\n",
    "                optim.zero_grad()\n",
    "                \n",
    "                losses[i,n] += loss.item()\n",
    "                bar.update(1)\n",
    "                \n",
    "            bar.set_postfix(loss = '{:.4f}'.format(losses[i].mean().item()))\n",
    "    \n",
    "    model.eval().cpu()\n",
    "    return losses\n",
    "  \n",
    "losses = train(model, 3, 2e-5)\n",
    "torch.save(model, './models/named_entity_recognition.model')"
   ]
  },
  {
   "cell_type": "markdown",
   "metadata": {},
   "source": [
    "### 使用"
   ]
  },
  {
   "cell_type": "code",
   "execution_count": 11,
   "metadata": {},
   "outputs": [],
   "source": [
    "def recognize(model, text):\n",
    "    model = model.eval()\n",
    "    inputs = tokenizer.encode_plus(text=text, return_tensors=\"pt\", padding=True, add_special_tokens=True, return_token_type_ids=False)\n",
    "    out = model(**inputs)['cls']\n",
    "    res = out.argmax(dim=1)\n",
    "    names = []\n",
    "    for i in res:\n",
    "        names.append(list(NAME_TABLE.keys())[i.item()])\n",
    "    return names"
   ]
  },
  {
   "cell_type": "code",
   "execution_count": 12,
   "metadata": {},
   "outputs": [],
   "source": [
    "# 导入模型\n",
    "model = torch.load('./models/named_entity_recognition.model')"
   ]
  },
  {
   "cell_type": "code",
   "execution_count": 13,
   "metadata": {},
   "outputs": [
    {
     "data": {
      "text/plain": [
       "['开/尾', '人物', '人物', '人物', '事物', '事物', '动作', '动作', '动作', '动作', '开/尾']"
      ]
     },
     "execution_count": 13,
     "metadata": {},
     "output_type": "execute_result"
    }
   ],
   "source": [
    "text = '刘天一脑子有大问题'\n",
    "recognize(model, text)"
   ]
  },
  {
   "cell_type": "code",
   "execution_count": null,
   "metadata": {},
   "outputs": [],
   "source": []
  }
 ],
 "metadata": {
  "kernelspec": {
   "display_name": "beatsleo",
   "language": "python",
   "name": "python3"
  },
  "language_info": {
   "codemirror_mode": {
    "name": "ipython",
    "version": 3
   },
   "file_extension": ".py",
   "mimetype": "text/x-python",
   "name": "python",
   "nbconvert_exporter": "python",
   "pygments_lexer": "ipython3",
   "version": "3.8.13"
  },
  "orig_nbformat": 4,
  "vscode": {
   "interpreter": {
    "hash": "3c34c0319d0a309be29663e51c48d620a80f809bc34ab561fe0a7ac57c4f65c6"
   }
  }
 },
 "nbformat": 4,
 "nbformat_minor": 2
}
