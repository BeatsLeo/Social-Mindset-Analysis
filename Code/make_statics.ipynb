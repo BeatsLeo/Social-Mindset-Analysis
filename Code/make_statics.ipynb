{
 "cells": [
  {
   "cell_type": "code",
   "execution_count": 1,
   "metadata": {},
   "outputs": [],
   "source": [
    "import os\n",
    "import json\n",
    "import torch\n",
    "from tqdm import tqdm\n",
    "from transformers import AutoTokenizer\n",
    "\n",
    "from settings import *\n",
    "from networks.networks import *"
   ]
  },
  {
   "cell_type": "code",
   "execution_count": 3,
   "metadata": {},
   "outputs": [],
   "source": [
    "with open('./rawdata/weibo3.json') as f:\n",
    "    data = json.load(f)"
   ]
  },
  {
   "cell_type": "code",
   "execution_count": 4,
   "metadata": {},
   "outputs": [],
   "source": [
    "model_root_path = './models/'\n",
    "cls_tokenizer=AutoTokenizer.from_pretrained('IDEA-CCNL/Erlangshen-Roberta-330M-Sentiment')\n",
    "ner_tokenizer=AutoTokenizer.from_pretrained('IDEA-CCNL/Erlangshen-DeBERTa-v2-320M-Chinese', use_fast=False)\n",
    "smy_tokenizer=AutoTokenizer.from_pretrained('IDEA-CCNL/Randeng-BART-139M-SUMMARY')\n",
    "\n",
    "cls_model = torch.load(os.path.join(model_root_path, 'attitude_classify.model'))\n",
    "ner_model = torch.load(os.path.join(model_root_path, 'named_entity_recognition.model'))\n",
    "smy_model = torch.load(os.path.join(model_root_path, 'text_summary.model'))"
   ]
  },
  {
   "cell_type": "code",
   "execution_count": null,
   "metadata": {},
   "outputs": [],
   "source": [
    "EVENTS = {} # {'entities': set, 'summary': str}"
   ]
  },
  {
   "cell_type": "code",
   "execution_count": 4,
   "metadata": {},
   "outputs": [],
   "source": [
    "def static_item(item):\n",
    "    # 获取数据\n",
    "    event = item['event']\n",
    "    post = item['post']\n",
    "    time = item['time']\n",
    "    ip = item['ip']\n",
    "    thumbs = item['thumbs']\n",
    "    comments = item['comments']\n",
    "\n",
    "    # "
   ]
  },
  {
   "cell_type": "code",
   "execution_count": 5,
   "metadata": {},
   "outputs": [
    {
     "data": {
      "text/plain": [
       "{'event': '鞠婧祎',\n",
       " 'post': '机场航站楼门口偶遇鞠婧祎鞠婧祎这腰比我腿都细本人真的好美！！',\n",
       " 'time': '2023-02-06',\n",
       " 'ip': 2,\n",
       " 'thumbs': 3706,\n",
       " 'comments': [{'content': '是真的头大，矮啊',\n",
       "   'time': '2023-02-06',\n",
       "   'ip': 18,\n",
       "   'thumbs': 27},\n",
       "  {'content': '是那个三千年美少女？？？别扯淡了不是国家承认的就别丢人现眼',\n",
       "   'time': '2023-02-07',\n",
       "   'ip': 6,\n",
       "   'thumbs': 2},\n",
       "  {'content': '对矮的女的没感觉', 'time': '2023-02-07', 'ip': 9, 'thumbs': 0},\n",
       "  {'content': '快快乐乐', 'time': '2023-02-07', 'ip': 21, 'thumbs': 1},\n",
       "  {'content': '像个小孩瘦的只剩骨架了', 'time': '2023-02-07', 'ip': 22, 'thumbs': 0},\n",
       "  {'content': '很早的吧', 'time': '2023-02-07', 'ip': 13, 'thumbs': 0},\n",
       "  {'content': '在人群中也就是正常身高，没必要嘲笑人家矮',\n",
       "   'time': '2023-02-07',\n",
       "   'ip': 18,\n",
       "   'thumbs': 4},\n",
       "  {'content': '精神小妹', 'time': '2023-02-07', 'ip': 18, 'thumbs': 4},\n",
       "  {'content': '不认识', 'time': '2023-02-07', 'ip': 9, 'thumbs': 2},\n",
       "  {'content': '小鞠美美哒，就是穿的不冷麻，宝贝要注意保暖哦',\n",
       "   'time': '2023-02-07',\n",
       "   'ip': 9,\n",
       "   'thumbs': 1},\n",
       "  {'content': '小鞠好美[哇]', 'time': '2023-02-07', 'ip': 17, 'thumbs': 2},\n",
       "  {'content': '我家宝宝就是美啊嘿嘿', 'time': '2023-02-07', 'ip': 3, 'thumbs': 1},\n",
       "  {'content': '漂亮，美女咋都好看，找茬的是没吗？', 'time': '2023-02-07', 'ip': 3, 'thumbs': 1},\n",
       "  {'content': '漂亮我鞠姐', 'time': '2023-02-07', 'ip': 4, 'thumbs': 0},\n",
       "  {'content': '就这小鸡仔，哪里好看了？', 'time': '2023-02-07', 'ip': 14, 'thumbs': 0},\n",
       "  {'content': '我不是他的粉丝，但我觉着评论区酸过头了，明明就是很好看有些破防男女还要鸡蛋里挑无色骨头，最好笑的是普信男说自己看不上这样的女的那你把自己想的太重要了，因为这样的女的根本不会看你这样的男的一眼，优秀就是优秀，为什么要死不承认',\n",
       "   'time': '2023-02-07',\n",
       "   'ip': 14,\n",
       "   'thumbs': 1},\n",
       "  {'content': '这旁边拍的人大都这么高啊[兔子]', 'time': '2023-02-07', 'ip': 24, 'thumbs': 0},\n",
       "  {'content': '好漂亮', 'time': '2023-02-07', 'ip': 12, 'thumbs': 6},\n",
       "  {'content': '开开心心[]', 'time': '2023-02-06', 'ip': 18, 'thumbs': 1},\n",
       "  {'content': '在哪[笑]', 'time': '2023-02-06', 'ip': 12, 'thumbs': 0},\n",
       "  {'content': '是真的头大，矮啊', 'time': '2023-02-06', 'ip': 18, 'thumbs': 27},\n",
       "  {'content': '是那个三千年美少女？？？别扯淡了不是国家承认的就别丢人现眼',\n",
       "   'time': '2023-02-07',\n",
       "   'ip': 6,\n",
       "   'thumbs': 2},\n",
       "  {'content': '对矮的女的没感觉', 'time': '2023-02-07', 'ip': 9, 'thumbs': 0},\n",
       "  {'content': '快快乐乐', 'time': '2023-02-07', 'ip': 21, 'thumbs': 1},\n",
       "  {'content': '像个小孩瘦的只剩骨架了', 'time': '2023-02-07', 'ip': 22, 'thumbs': 0},\n",
       "  {'content': '很早的吧', 'time': '2023-02-07', 'ip': 13, 'thumbs': 0},\n",
       "  {'content': '在人群中也就是正常身高，没必要嘲笑人家矮',\n",
       "   'time': '2023-02-07',\n",
       "   'ip': 18,\n",
       "   'thumbs': 4},\n",
       "  {'content': '精神小妹', 'time': '2023-02-07', 'ip': 18, 'thumbs': 4},\n",
       "  {'content': '不认识', 'time': '2023-02-07', 'ip': 9, 'thumbs': 2},\n",
       "  {'content': '小鞠美美哒，就是穿的不冷麻，宝贝要注意保暖哦',\n",
       "   'time': '2023-02-07',\n",
       "   'ip': 9,\n",
       "   'thumbs': 1},\n",
       "  {'content': '小鞠好美[哇]', 'time': '2023-02-07', 'ip': 17, 'thumbs': 2},\n",
       "  {'content': '我家宝宝就是美啊嘿嘿', 'time': '2023-02-07', 'ip': 3, 'thumbs': 1},\n",
       "  {'content': '漂亮，美女咋都好看，找茬的是没吗？', 'time': '2023-02-07', 'ip': 3, 'thumbs': 1},\n",
       "  {'content': '漂亮我鞠姐', 'time': '2023-02-07', 'ip': 4, 'thumbs': 0},\n",
       "  {'content': '就这小鸡仔，哪里好看了？', 'time': '2023-02-07', 'ip': 14, 'thumbs': 0},\n",
       "  {'content': '我不是他的粉丝，但我觉着评论区酸过头了，明明就是很好看有些破防男女还要鸡蛋里挑无色骨头，最好笑的是普信男说自己看不上这样的女的那你把自己想的太重要了，因为这样的女的根本不会看你这样的男的一眼，优秀就是优秀，为什么要死不承认',\n",
       "   'time': '2023-02-07',\n",
       "   'ip': 14,\n",
       "   'thumbs': 1}]}"
      ]
     },
     "execution_count": 5,
     "metadata": {},
     "output_type": "execute_result"
    }
   ],
   "source": [
    "for key in data.keys():\n",
    "    for item in data['热门']:\n",
    "        break\n",
    "item"
   ]
  },
  {
   "cell_type": "code",
   "execution_count": null,
   "metadata": {},
   "outputs": [],
   "source": []
  }
 ],
 "metadata": {
  "kernelspec": {
   "display_name": "beatsleo",
   "language": "python",
   "name": "python3"
  },
  "language_info": {
   "codemirror_mode": {
    "name": "ipython",
    "version": 3
   },
   "file_extension": ".py",
   "mimetype": "text/x-python",
   "name": "python",
   "nbconvert_exporter": "python",
   "pygments_lexer": "ipython3",
   "version": "3.8.13"
  },
  "orig_nbformat": 4,
  "vscode": {
   "interpreter": {
    "hash": "3c34c0319d0a309be29663e51c48d620a80f809bc34ab561fe0a7ac57c4f65c6"
   }
  }
 },
 "nbformat": 4,
 "nbformat_minor": 2
}
