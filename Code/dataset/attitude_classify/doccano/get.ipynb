{
 "cells": [
  {
   "cell_type": "code",
   "execution_count": 2,
   "metadata": {},
   "outputs": [],
   "source": [
    "import json"
   ]
  },
  {
   "cell_type": "code",
   "execution_count": 3,
   "metadata": {},
   "outputs": [
    {
     "data": {
      "text/plain": [
       "{'高兴': {'color': '#FFF2CC', 'rgb': (255, 242, 204)},\n",
       " '搞笑': {'color': '#FFE699', 'rgb': (255, 230, 153)},\n",
       " '钦佩': {'color': '#FFD966', 'rgb': (255, 217, 102)},\n",
       " '肯定': {'color': '#FFBD0B', 'rgb': (255, 189, 11)},\n",
       " '感动': {'color': '#F2B100', 'rgb': (242, 177, 0)},\n",
       " '悲伤': {'color': '#CBD3EA', 'rgb': (203, 211, 234)},\n",
       " '厌恶': {'color': '#9DACD5', 'rgb': (157, 172, 213)},\n",
       " '愤怒': {'color': '#6379B5', 'rgb': (99, 121, 181)},\n",
       " '担心': {'color': '#2B458F', 'rgb': (43, 69, 143)},\n",
       " '无聊': {'color': '#021750', 'rgb': (2, 23, 80)},\n",
       " '警惕': {'color': '#E2F0D9', 'rgb': (226, 240, 217)},\n",
       " '惊讶': {'color': '#C5E0B4', 'rgb': (197, 224, 180)},\n",
       " '无所谓': {'color': '#A9D18E', 'rgb': (169, 209, 142)}}"
      ]
     },
     "execution_count": 3,
     "metadata": {},
     "output_type": "execute_result"
    }
   ],
   "source": [
    "js = json.load(open('./label_format.json'))\n",
    "pairs = {}\n",
    "for i in js:\n",
    "    d = {}\n",
    "    bc = i[\"background_color\"]\n",
    "    d['color'] = bc\n",
    "    d['rgb'] = (eval('0x'+bc[1:3]), eval('0x'+bc[3:5]), eval('0x'+bc[5:]))\n",
    "    pairs[i['text']] = d\n",
    "pairs"
   ]
  },
  {
   "cell_type": "code",
   "execution_count": 10,
   "metadata": {},
   "outputs": [
    {
     "data": {
      "text/plain": [
       "(255, 242, 204)"
      ]
     },
     "execution_count": 10,
     "metadata": {},
     "output_type": "execute_result"
    }
   ],
   "source": [
    "eval('0xFF'), eval('0xF2'), eval('0xCC')"
   ]
  },
  {
   "cell_type": "code",
   "execution_count": 7,
   "metadata": {},
   "outputs": [
    {
     "data": {
      "text/plain": [
       "(157, 172, 213)"
      ]
     },
     "execution_count": 7,
     "metadata": {},
     "output_type": "execute_result"
    }
   ],
   "source": [
    "COLOR = {'高兴': {'color': '#FFF2CC', 'rgb': (255, 242, 204)},\n",
    "\t\t '搞笑': {'color': '#FFE699', 'rgb': (255, 230, 153)},\n",
    "\t\t '钦佩': {'color': '#FFD966', 'rgb': (255, 217, 102)},\n",
    "\t\t '肯定': {'color': '#FFBD0B', 'rgb': (255, 189, 11)},\n",
    "\t\t '感动': {'color': '#F2B100', 'rgb': (242, 177, 0)},\n",
    "\t\t '悲伤': {'color': '#CBD3EA', 'rgb': (203, 211, 234)},\n",
    "\t\t '厌恶': {'color': '#9DACD5', 'rgb': (157, 172, 213)},\n",
    "\t\t '愤怒': {'color': '#6379B5', 'rgb': (99, 121, 181)},\n",
    "\t\t '担心': {'color': '#2B458F', 'rgb': (43, 69, 143)},\n",
    "\t\t '无聊': {'color': '#021750', 'rgb': (2, 23, 80)},\n",
    "\t\t '警惕': {'color': '#E2F0D9', 'rgb': (226, 240, 217)},\n",
    "\t\t '惊讶': {'color': '#C5E0B4', 'rgb': (197, 224, 180)},\n",
    "\t\t '无所谓': {'color': '#A9D18E', 'rgb': (169, 209, 142)}}"
   ]
  },
  {
   "cell_type": "code",
   "execution_count": null,
   "metadata": {},
   "outputs": [],
   "source": []
  }
 ],
 "metadata": {
  "kernelspec": {
   "display_name": "beatsleo",
   "language": "python",
   "name": "python3"
  },
  "language_info": {
   "codemirror_mode": {
    "name": "ipython",
    "version": 3
   },
   "file_extension": ".py",
   "mimetype": "text/x-python",
   "name": "python",
   "nbconvert_exporter": "python",
   "pygments_lexer": "ipython3",
   "version": "3.8.13"
  },
  "orig_nbformat": 4,
  "vscode": {
   "interpreter": {
    "hash": "3c34c0319d0a309be29663e51c48d620a80f809bc34ab561fe0a7ac57c4f65c6"
   }
  }
 },
 "nbformat": 4,
 "nbformat_minor": 2
}
