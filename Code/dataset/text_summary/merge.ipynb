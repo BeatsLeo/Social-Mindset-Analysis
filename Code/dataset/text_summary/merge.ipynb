{
 "cells": [
  {
   "cell_type": "code",
   "execution_count": 1,
   "metadata": {},
   "outputs": [],
   "source": [
    "import json\n",
    "import random"
   ]
  },
  {
   "cell_type": "code",
   "execution_count": 9,
   "metadata": {},
   "outputs": [],
   "source": [
    "chatgpt = json.load(open('./ChatGPT/summary.json', encoding='utf-8'))\n",
    "lcsts = json.load(open('./LCSTS/weibo_smy.json', encoding='utf-8'))\n",
    "news_title = json.load(open('./news_title/weibo_data.json', encoding='utf-8'))\n",
    "self_summary = json.load(open('./self_summary/self.json', encoding='utf-8'))\n",
    "wanfang = json.load(open('./wanfang/wanfang_data.json', encoding='utf-8'))"
   ]
  },
  {
   "cell_type": "code",
   "execution_count": 10,
   "metadata": {},
   "outputs": [],
   "source": [
    "random.shuffle(news_title)\n",
    "news_title = news_title[:256]"
   ]
  },
  {
   "cell_type": "code",
   "execution_count": 12,
   "metadata": {},
   "outputs": [],
   "source": [
    "data = chatgpt + lcsts + news_title + self_summary + wanfang\n",
    "json.dump(data, open('./total.json', 'w', encoding='utf-8'), ensure_ascii=False)"
   ]
  },
  {
   "cell_type": "code",
   "execution_count": null,
   "metadata": {},
   "outputs": [],
   "source": []
  }
 ],
 "metadata": {
  "kernelspec": {
   "display_name": "beatsleo",
   "language": "python",
   "name": "python3"
  },
  "language_info": {
   "codemirror_mode": {
    "name": "ipython",
    "version": 3
   },
   "file_extension": ".py",
   "mimetype": "text/x-python",
   "name": "python",
   "nbconvert_exporter": "python",
   "pygments_lexer": "ipython3",
   "version": "3.8.13"
  },
  "orig_nbformat": 4
 },
 "nbformat": 4,
 "nbformat_minor": 2
}
