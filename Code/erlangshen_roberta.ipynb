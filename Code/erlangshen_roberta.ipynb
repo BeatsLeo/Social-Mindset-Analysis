{
 "cells": [
  {
   "cell_type": "code",
   "execution_count": null,
   "metadata": {},
   "outputs": [],
   "source": [
    "import csv\n",
    "import torch\n",
    "import random\n",
    "from tqdm import tqdm\n",
    "from transformers import BertModel, BertTokenizer, logging"
   ]
  },
  {
   "cell_type": "code",
   "execution_count": null,
   "metadata": {},
   "outputs": [],
   "source": [
    "ATT_TABLE = {\n",
    "    '高兴': 0, '搞笑': 1, '期待': 2, '肯定': 3, '感动': 4, '悲伤': 5, \n",
    "    '愤怒': 6, '厌恶': 7, '担心': 8, '无聊': 9, '警惕': 10, '惊讶': 11, '无所谓': 12,\n",
    "}\n",
    "\n",
    "device = 'cuda' if(torch.cuda.is_available()) else 'cpu'\n",
    "device = 'cpu'"
   ]
  },
  {
   "cell_type": "markdown",
   "metadata": {},
   "source": [
    "### 加载模型"
   ]
  },
  {
   "cell_type": "code",
   "execution_count": null,
   "metadata": {},
   "outputs": [],
   "source": [
    "logging.set_verbosity_error()   # 消除未使用权重的warning\n",
    "\n",
    "pretrain=BertModel.from_pretrained('IDEA-CCNL/Erlangshen-Roberta-330M-Sentiment')\n",
    "tokenizer=BertTokenizer.from_pretrained('IDEA-CCNL/Erlangshen-Roberta-330M-Sentiment')"
   ]
  },
  {
   "cell_type": "code",
   "execution_count": null,
   "metadata": {},
   "outputs": [],
   "source": [
    "inputs = tokenizer.encode('嘿嘿', return_tensors='pt')\n",
    "pretrain(inputs)"
   ]
  },
  {
   "attachments": {},
   "cell_type": "markdown",
   "metadata": {},
   "source": [
    "### 数据集"
   ]
  },
  {
   "cell_type": "code",
   "execution_count": 5,
   "metadata": {},
   "outputs": [],
   "source": [
    "def read_from_csv(filename):\n",
    "    with open(filename, 'r') as csvfile:\n",
    "        reader = csv.reader(csvfile)\n",
    "        data = list(reader)\n",
    "    return data"
   ]
  },
  {
   "cell_type": "code",
   "execution_count": 6,
   "metadata": {},
   "outputs": [],
   "source": [
    "class Dataset(torch.utils.data.Dataset):\n",
    "    def __init__(self, data):\n",
    "        \"\"\"输入data格式: \n",
    "            [['id', 'text', 'label', 'Comments'],\n",
    "             [xxx, xxx, xxx, xxx],\n",
    "             [xxx, xxx, xxx, xxx],\n",
    "             ...]\n",
    "        \"\"\"\n",
    "        \n",
    "        super().__init__()\n",
    "        data = [[d[1], d[2]] for d in data[1:] if d[2].strip()!= '']\n",
    "        \n",
    "        random.shuffle(data)\n",
    "        train_len = int(0.9 * len(data))\n",
    "        self.train_data = data[:train_len]\n",
    "        self.test_data = data[train_len:]\n",
    "        \n",
    "        self.train = True\n",
    "        \n",
    "    def __len__(self):\n",
    "        if(self.train):\n",
    "            return len(self.train_data)\n",
    "        else:\n",
    "            return len(self.test_data)\n",
    "        \n",
    "    def __getitem__(self, idx):\n",
    "        if(self.train):\n",
    "            return self.train_data[idx]\n",
    "        else:\n",
    "            return self.test_data[idx]\n",
    "\n",
    "data = read_from_csv('./dataset/attitude_classify/all.csv')\n",
    "dataset = Dataset(data)"
   ]
  },
  {
   "cell_type": "code",
   "execution_count": 65,
   "metadata": {},
   "outputs": [],
   "source": [
    "def collate_fn(data):\n",
    "    contents = [i[0].split('###') for i in data]\n",
    "    labels = [ATT_TABLE[i[1]] for i in data]\n",
    "    \n",
    "    contents = tokenizer.batch_encode_plus(batch_text_or_text_pairs=contents, return_tensors=\"pt\", padding=True, add_special_tokens=True, return_token_type_ids=True)\n",
    "    \n",
    "    data = {}\n",
    "    data['input_ids'] = contents['input_ids'].to(device)\n",
    "    data['attention_mask'] = contents['attention_mask'].to(device)\n",
    "    data['token_type_ids'] = contents['token_type_ids'].to(device)\n",
    "    data['labels'] = torch.tensor(labels, dtype=torch.long).to(device)\n",
    "\n",
    "    return data\n",
    "\n",
    "loader = torch.utils.data.DataLoader(dataset=dataset,\n",
    "                                     batch_size=4,\n",
    "                                     collate_fn=collate_fn,\n",
    "                                     drop_last=True)"
   ]
  },
  {
   "attachments": {},
   "cell_type": "markdown",
   "metadata": {},
   "source": [
    "### 模型"
   ]
  },
  {
   "cell_type": "code",
   "execution_count": 69,
   "metadata": {},
   "outputs": [],
   "source": [
    "class RobertaModel(torch.nn.Module):\n",
    "    def __init__(self):\n",
    "        super().__init__()\n",
    "        self.pretrain = pretrain\n",
    "        self.dropout = torch.nn.Dropout(0.1, inplace=False)\n",
    "        self.classifier = torch.nn.Linear(1024, 13)\n",
    "        self.criterion = torch.nn.CrossEntropyLoss()\n",
    "        \n",
    "    def forward(self, input_ids, attention_mask=None, labels=None, token_type_ids=None):\n",
    "        rt = {'loss': None, 'cls': None}\n",
    "        \n",
    "        out = self.pretrain(input_ids=input_ids, attention_mask=attention_mask, token_type_ids=token_type_ids)['pooler_output']\n",
    "        out = self.dropout(out)\n",
    "        out = self.classifier(out)\n",
    "        rt['cls'] = out\n",
    "                \n",
    "        if(labels is not None):\n",
    "            rt['loss'] = self.criterion(out, labels)\n",
    "        return rt\n",
    "\n",
    "model = RobertaModel()"
   ]
  },
  {
   "cell_type": "markdown",
   "metadata": {},
   "source": [
    "### 训练"
   ]
  },
  {
   "cell_type": "code",
   "execution_count": 70,
   "metadata": {},
   "outputs": [
    {
     "name": "stderr",
     "output_type": "stream",
     "text": [
      "训练进度-epoch: 1/5:   1%|▏                     | 4/396 [00:17<28:19,  4.34s/it]t/s]\n"
     ]
    },
    {
     "ename": "KeyboardInterrupt",
     "evalue": "",
     "output_type": "error",
     "traceback": [
      "\u001b[1;31m---------------------------------------------------------------------------\u001b[0m",
      "\u001b[1;31mKeyboardInterrupt\u001b[0m                         Traceback (most recent call last)",
      "\u001b[1;32me:\\QQDownload\\大创\\交互式舆情分析\\github\\Code\\erlangshen_roberta.ipynb 单元格 13\u001b[0m in \u001b[0;36m<cell line: 24>\u001b[1;34m()\u001b[0m\n\u001b[0;32m     <a href='vscode-notebook-cell:/e%3A/QQDownload/%E5%A4%A7%E5%88%9B/%E4%BA%A4%E4%BA%92%E5%BC%8F%E8%88%86%E6%83%85%E5%88%86%E6%9E%90/github/Code/erlangshen_roberta.ipynb#X15sZmlsZQ%3D%3D?line=20'>21</a>\u001b[0m     model\u001b[39m.\u001b[39meval()\u001b[39m.\u001b[39mcpu()\n\u001b[0;32m     <a href='vscode-notebook-cell:/e%3A/QQDownload/%E5%A4%A7%E5%88%9B/%E4%BA%A4%E4%BA%92%E5%BC%8F%E8%88%86%E6%83%85%E5%88%86%E6%9E%90/github/Code/erlangshen_roberta.ipynb#X15sZmlsZQ%3D%3D?line=21'>22</a>\u001b[0m     \u001b[39mreturn\u001b[39;00m losses\n\u001b[1;32m---> <a href='vscode-notebook-cell:/e%3A/QQDownload/%E5%A4%A7%E5%88%9B/%E4%BA%A4%E4%BA%92%E5%BC%8F%E8%88%86%E6%83%85%E5%88%86%E6%9E%90/github/Code/erlangshen_roberta.ipynb#X15sZmlsZQ%3D%3D?line=23'>24</a>\u001b[0m losses \u001b[39m=\u001b[39m train(model, \u001b[39m5\u001b[39;49m, \u001b[39m2e-5\u001b[39;49m)\n\u001b[0;32m     <a href='vscode-notebook-cell:/e%3A/QQDownload/%E5%A4%A7%E5%88%9B/%E4%BA%A4%E4%BA%92%E5%BC%8F%E8%88%86%E6%83%85%E5%88%86%E6%9E%90/github/Code/erlangshen_roberta.ipynb#X15sZmlsZQ%3D%3D?line=24'>25</a>\u001b[0m torch\u001b[39m.\u001b[39msave(model, \u001b[39m'\u001b[39m\u001b[39m./models/attitude_classify.model\u001b[39m\u001b[39m'\u001b[39m)\n",
      "\u001b[1;32me:\\QQDownload\\大创\\交互式舆情分析\\github\\Code\\erlangshen_roberta.ipynb 单元格 13\u001b[0m in \u001b[0;36mtrain\u001b[1;34m(model, epoches, lr)\u001b[0m\n\u001b[0;32m     <a href='vscode-notebook-cell:/e%3A/QQDownload/%E5%A4%A7%E5%88%9B/%E4%BA%A4%E4%BA%92%E5%BC%8F%E8%88%86%E6%83%85%E5%88%86%E6%9E%90/github/Code/erlangshen_roberta.ipynb#X15sZmlsZQ%3D%3D?line=9'>10</a>\u001b[0m \u001b[39mfor\u001b[39;00m n,d \u001b[39min\u001b[39;00m \u001b[39menumerate\u001b[39m(loader):\n\u001b[0;32m     <a href='vscode-notebook-cell:/e%3A/QQDownload/%E5%A4%A7%E5%88%9B/%E4%BA%A4%E4%BA%92%E5%BC%8F%E8%88%86%E6%83%85%E5%88%86%E6%9E%90/github/Code/erlangshen_roberta.ipynb#X15sZmlsZQ%3D%3D?line=10'>11</a>\u001b[0m     loss \u001b[39m=\u001b[39m model(\u001b[39m*\u001b[39m\u001b[39m*\u001b[39md)[\u001b[39m'\u001b[39m\u001b[39mloss\u001b[39m\u001b[39m'\u001b[39m]\n\u001b[1;32m---> <a href='vscode-notebook-cell:/e%3A/QQDownload/%E5%A4%A7%E5%88%9B/%E4%BA%A4%E4%BA%92%E5%BC%8F%E8%88%86%E6%83%85%E5%88%86%E6%9E%90/github/Code/erlangshen_roberta.ipynb#X15sZmlsZQ%3D%3D?line=11'>12</a>\u001b[0m     loss\u001b[39m.\u001b[39;49mbackward()\n\u001b[0;32m     <a href='vscode-notebook-cell:/e%3A/QQDownload/%E5%A4%A7%E5%88%9B/%E4%BA%A4%E4%BA%92%E5%BC%8F%E8%88%86%E6%83%85%E5%88%86%E6%9E%90/github/Code/erlangshen_roberta.ipynb#X15sZmlsZQ%3D%3D?line=12'>13</a>\u001b[0m     optim\u001b[39m.\u001b[39mstep()\n\u001b[0;32m     <a href='vscode-notebook-cell:/e%3A/QQDownload/%E5%A4%A7%E5%88%9B/%E4%BA%A4%E4%BA%92%E5%BC%8F%E8%88%86%E6%83%85%E5%88%86%E6%9E%90/github/Code/erlangshen_roberta.ipynb#X15sZmlsZQ%3D%3D?line=13'>14</a>\u001b[0m     optim\u001b[39m.\u001b[39mzero_grad()\n",
      "File \u001b[1;32me:\\Anaconda\\envs\\beatsleo\\lib\\site-packages\\torch\\_tensor.py:396\u001b[0m, in \u001b[0;36mTensor.backward\u001b[1;34m(self, gradient, retain_graph, create_graph, inputs)\u001b[0m\n\u001b[0;32m    387\u001b[0m \u001b[39mif\u001b[39;00m has_torch_function_unary(\u001b[39mself\u001b[39m):\n\u001b[0;32m    388\u001b[0m     \u001b[39mreturn\u001b[39;00m handle_torch_function(\n\u001b[0;32m    389\u001b[0m         Tensor\u001b[39m.\u001b[39mbackward,\n\u001b[0;32m    390\u001b[0m         (\u001b[39mself\u001b[39m,),\n\u001b[1;32m   (...)\u001b[0m\n\u001b[0;32m    394\u001b[0m         create_graph\u001b[39m=\u001b[39mcreate_graph,\n\u001b[0;32m    395\u001b[0m         inputs\u001b[39m=\u001b[39minputs)\n\u001b[1;32m--> 396\u001b[0m torch\u001b[39m.\u001b[39;49mautograd\u001b[39m.\u001b[39;49mbackward(\u001b[39mself\u001b[39;49m, gradient, retain_graph, create_graph, inputs\u001b[39m=\u001b[39;49minputs)\n",
      "File \u001b[1;32me:\\Anaconda\\envs\\beatsleo\\lib\\site-packages\\torch\\autograd\\__init__.py:173\u001b[0m, in \u001b[0;36mbackward\u001b[1;34m(tensors, grad_tensors, retain_graph, create_graph, grad_variables, inputs)\u001b[0m\n\u001b[0;32m    168\u001b[0m     retain_graph \u001b[39m=\u001b[39m create_graph\n\u001b[0;32m    170\u001b[0m \u001b[39m# The reason we repeat same the comment below is that\u001b[39;00m\n\u001b[0;32m    171\u001b[0m \u001b[39m# some Python versions print out the first line of a multi-line function\u001b[39;00m\n\u001b[0;32m    172\u001b[0m \u001b[39m# calls in the traceback and some print out the last line\u001b[39;00m\n\u001b[1;32m--> 173\u001b[0m Variable\u001b[39m.\u001b[39;49m_execution_engine\u001b[39m.\u001b[39;49mrun_backward(  \u001b[39m# Calls into the C++ engine to run the backward pass\u001b[39;49;00m\n\u001b[0;32m    174\u001b[0m     tensors, grad_tensors_, retain_graph, create_graph, inputs,\n\u001b[0;32m    175\u001b[0m     allow_unreachable\u001b[39m=\u001b[39;49m\u001b[39mTrue\u001b[39;49;00m, accumulate_grad\u001b[39m=\u001b[39;49m\u001b[39mTrue\u001b[39;49;00m)\n",
      "\u001b[1;31mKeyboardInterrupt\u001b[0m: "
     ]
    }
   ],
   "source": [
    "def train(model, epoches, lr):\n",
    "    lens = len(loader)\n",
    "    model = model.train().to(device)\n",
    "    optim = torch.optim.AdamW(model.parameters(), lr=lr)\n",
    "    \n",
    "    losses = torch.zeros((epoches, lens))\n",
    "    for i in range(epoches):\n",
    "        with tqdm(total=lens, ncols=80) as bar:\n",
    "            bar.set_description('训练进度-epoch: {}/{}'.format(i+1,epoches))\n",
    "            for n,d in enumerate(loader):\n",
    "                loss = model(**d)['loss']\n",
    "                loss.backward()\n",
    "                optim.step()\n",
    "                optim.zero_grad()\n",
    "                \n",
    "                losses[i,n] += loss.item()\n",
    "                bar.update(1)\n",
    "                \n",
    "            bar.set_postfix(loss = '{:.4f}'.format(losses[i].mean().item()))\n",
    "    \n",
    "    model.eval().cpu()\n",
    "    return losses\n",
    "\n",
    "losses = train(model, 5, 2e-5)\n",
    "torch.save(model, './models/attitude_classify.model')"
   ]
  },
  {
   "attachments": {},
   "cell_type": "markdown",
   "metadata": {},
   "source": [
    "### 使用"
   ]
  },
  {
   "cell_type": "code",
   "execution_count": null,
   "metadata": {},
   "outputs": [],
   "source": [
    "def classify(model, text):\n",
    "    model = model.eval()\n",
    "    inputs = tokenizer.encode(text, add_special_tokens=True, return_tensors='pt')\n",
    "    out = model(inputs)['cls']\n",
    "    res = out.argmax(dim=1).item()\n",
    "    return list(ATT_TABLE.keys())[res]"
   ]
  },
  {
   "cell_type": "code",
   "execution_count": null,
   "metadata": {},
   "outputs": [],
   "source": [
    "# 导入模型\n",
    "model = torch.load('./models/text_summary.model')"
   ]
  },
  {
   "cell_type": "code",
   "execution_count": null,
   "metadata": {},
   "outputs": [],
   "source": [
    "dataset.train = False\n",
    "classify(model, '啊好好奇这是真的吗？？？')"
   ]
  },
  {
   "cell_type": "code",
   "execution_count": null,
   "metadata": {},
   "outputs": [],
   "source": []
  }
 ],
 "metadata": {
  "kernelspec": {
   "display_name": "beatsleo",
   "language": "python",
   "name": "python3"
  },
  "language_info": {
   "codemirror_mode": {
    "name": "ipython",
    "version": 3
   },
   "file_extension": ".py",
   "mimetype": "text/x-python",
   "name": "python",
   "nbconvert_exporter": "python",
   "pygments_lexer": "ipython3",
   "version": "3.8.13"
  },
  "orig_nbformat": 4,
  "vscode": {
   "interpreter": {
    "hash": "3c34c0319d0a309be29663e51c48d620a80f809bc34ab561fe0a7ac57c4f65c6"
   }
  }
 },
 "nbformat": 4,
 "nbformat_minor": 2
}
