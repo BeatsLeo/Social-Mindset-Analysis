{
 "cells": [
  {
   "cell_type": "code",
   "execution_count": 1,
   "metadata": {},
   "outputs": [],
   "source": [
    "import csv\n",
    "import torch\n",
    "import random\n",
    "from tqdm import tqdm\n",
    "from transformers import BertModel, BertTokenizer, logging"
   ]
  },
  {
   "cell_type": "code",
   "execution_count": 2,
   "metadata": {},
   "outputs": [],
   "source": [
    "ATT_TABLE = {\n",
    "    '高兴': 0, '搞笑': 1, '期待': 2, '肯定': 3, '感动': 4, '悲伤': 5, \n",
    "    '愤怒': 6, '厌恶': 7, '担心': 8, '无聊': 9, '警惕': 10, '惊讶': 11, '无所谓': 12,\n",
    "}\n",
    "\n",
    "device = 'cuda' if(torch.cuda.is_available()) else 'cpu'\n",
    "device = 'cpu'"
   ]
  },
  {
   "cell_type": "markdown",
   "metadata": {},
   "source": [
    "### 加载模型"
   ]
  },
  {
   "cell_type": "code",
   "execution_count": 3,
   "metadata": {},
   "outputs": [],
   "source": [
    "logging.set_verbosity_error()   # 消除未使用权重的warning\n",
    "\n",
    "pretrain=BertModel.from_pretrained('IDEA-CCNL/Erlangshen-Roberta-330M-Sentiment')\n",
    "tokenizer=BertTokenizer.from_pretrained('IDEA-CCNL/Erlangshen-Roberta-330M-Sentiment')"
   ]
  },
  {
   "cell_type": "code",
   "execution_count": 4,
   "metadata": {},
   "outputs": [
    {
     "data": {
      "text/plain": [
       "BaseModelOutputWithPoolingAndCrossAttentions(last_hidden_state=tensor([[[ 0.9940, -0.9275, -0.7588,  ..., -0.0946, -1.5457, -1.3777],\n",
       "         [ 0.2687, -0.8461, -1.0813,  ...,  0.4385, -2.4636, -1.1470],\n",
       "         [ 0.2276, -0.7463, -0.6477,  ...,  0.5365, -1.5191, -1.0243],\n",
       "         [ 0.9938, -0.9280, -0.7585,  ..., -0.0955, -1.5450, -1.3811]]],\n",
       "       grad_fn=<NativeLayerNormBackward0>), pooler_output=tensor([[-0.9016,  0.3281, -0.1157,  ..., -0.3664, -0.2742,  0.3941]],\n",
       "       grad_fn=<TanhBackward0>), hidden_states=None, past_key_values=None, attentions=None, cross_attentions=None)"
      ]
     },
     "execution_count": 4,
     "metadata": {},
     "output_type": "execute_result"
    }
   ],
   "source": [
    "inputs = tokenizer.encode('嘿嘿', return_tensors='pt')\n",
    "pretrain(inputs)"
   ]
  },
  {
   "attachments": {},
   "cell_type": "markdown",
   "metadata": {},
   "source": [
    "### 数据集"
   ]
  },
  {
   "cell_type": "code",
   "execution_count": 5,
   "metadata": {},
   "outputs": [],
   "source": [
    "def read_from_csv(filename):\n",
    "    with open(filename, 'r') as csvfile:\n",
    "        reader = csv.reader(csvfile)\n",
    "        data = list(reader)\n",
    "    return data"
   ]
  },
  {
   "cell_type": "code",
   "execution_count": 6,
   "metadata": {},
   "outputs": [],
   "source": [
    "class Dataset(torch.utils.data.Dataset):\n",
    "    def __init__(self, data):\n",
    "        \"\"\"输入data格式: \n",
    "            [['id', 'text', 'label', 'Comments'],\n",
    "             [xxx, xxx, xxx, xxx],\n",
    "             [xxx, xxx, xxx, xxx],\n",
    "             ...]\n",
    "        \"\"\"\n",
    "        \n",
    "        super().__init__()\n",
    "        data = [[d[1], d[2]] for d in data[1:] if d[2].strip()!= '']\n",
    "        \n",
    "        random.shuffle(data)\n",
    "        train_len = int(0.9 * len(data))\n",
    "        self.train_data = data[:train_len]\n",
    "        self.test_data = data[train_len:]\n",
    "        \n",
    "        self.train = True\n",
    "        \n",
    "    def __len__(self):\n",
    "        if(self.train):\n",
    "            return len(self.train_data)\n",
    "        else:\n",
    "            return len(self.test_data)\n",
    "        \n",
    "    def __getitem__(self, idx):\n",
    "        if(self.train):\n",
    "            return self.train_data[idx]\n",
    "        else:\n",
    "            return self.test_data[idx]\n",
    "\n",
    "data = read_from_csv('./dataset/attitude_classify/all.csv')\n",
    "dataset = Dataset(data)"
   ]
  },
  {
   "cell_type": "code",
   "execution_count": 7,
   "metadata": {},
   "outputs": [],
   "source": [
    "def collate_fn(data):\n",
    "    contents = [i[0].split('###') for i in data]\n",
    "    labels = [ATT_TABLE[i[1]] for i in data]\n",
    "    \n",
    "    contents = tokenizer.batch_encode_plus(batch_text_or_text_pairs=contents, return_tensors=\"pt\", padding=True, add_special_tokens=True, return_token_type_ids=True)\n",
    "    \n",
    "    data = {}\n",
    "    data['input_ids'] = contents['input_ids'].to(device)\n",
    "    data['attention_mask'] = contents['attention_mask'].to(device)\n",
    "    data['token_type_ids'] = contents['token_type_ids'].to(device)\n",
    "    data['labels'] = torch.tensor(labels, dtype=torch.long).to(device)\n",
    "\n",
    "    return data\n",
    "\n",
    "loader = torch.utils.data.DataLoader(dataset=dataset,\n",
    "                                     batch_size=4,\n",
    "                                     collate_fn=collate_fn,\n",
    "                                     drop_last=True)"
   ]
  },
  {
   "attachments": {},
   "cell_type": "markdown",
   "metadata": {},
   "source": [
    "### 模型"
   ]
  },
  {
   "cell_type": "code",
   "execution_count": 8,
   "metadata": {},
   "outputs": [],
   "source": [
    "class RobertaModel(torch.nn.Module):\n",
    "    def __init__(self):\n",
    "        super().__init__()\n",
    "        self.pretrain = pretrain\n",
    "        self.dropout = torch.nn.Dropout(0.1, inplace=False)\n",
    "        self.classifier = torch.nn.Linear(1024, 13)\n",
    "        self.criterion = torch.nn.CrossEntropyLoss()\n",
    "        \n",
    "    def forward(self, input_ids, attention_mask=None, labels=None, token_type_ids=None):\n",
    "        rt = {'loss': None, 'cls': None}\n",
    "        \n",
    "        out = self.pretrain(input_ids=input_ids, attention_mask=attention_mask, token_type_ids=token_type_ids)['pooler_output']\n",
    "        out = self.dropout(out)\n",
    "        out = self.classifier(out)\n",
    "        rt['cls'] = out\n",
    "                \n",
    "        if(labels is not None):\n",
    "            rt['loss'] = self.criterion(out, labels)\n",
    "        return rt\n",
    "\n",
    "model = RobertaModel()"
   ]
  },
  {
   "cell_type": "markdown",
   "metadata": {},
   "source": [
    "### 训练"
   ]
  },
  {
   "cell_type": "code",
   "execution_count": null,
   "metadata": {},
   "outputs": [],
   "source": [
    "def train(model, epoches, lr):\n",
    "    lens = len(loader)\n",
    "    model = model.train().to(device)\n",
    "    optim = torch.optim.AdamW(model.parameters(), lr=lr)\n",
    "    \n",
    "    losses = torch.zeros((epoches, lens))\n",
    "    for i in range(epoches):\n",
    "        with tqdm(total=lens, ncols=80) as bar:\n",
    "            bar.set_description('训练进度-epoch: {}/{}'.format(i+1,epoches))\n",
    "            for n,d in enumerate(loader):\n",
    "                loss = model(**d)['loss']\n",
    "                loss.backward()\n",
    "                optim.step()\n",
    "                optim.zero_grad()\n",
    "                \n",
    "                losses[i,n] += loss.item()\n",
    "                bar.update(1)\n",
    "                \n",
    "            bar.set_postfix(loss = '{:.4f}'.format(losses[i].mean().item()))\n",
    "    \n",
    "    model.eval().cpu()\n",
    "    return losses\n",
    "\n",
    "losses = train(model, 5, 2e-5)\n",
    "torch.save(model, './models/attitude_classify.model')"
   ]
  },
  {
   "attachments": {},
   "cell_type": "markdown",
   "metadata": {},
   "source": [
    "### 使用"
   ]
  },
  {
   "cell_type": "code",
   "execution_count": 9,
   "metadata": {},
   "outputs": [],
   "source": [
    "def classify(model, text):\n",
    "    model = model.eval()\n",
    "    inputs = tokenizer.encode(text, add_special_tokens=True, return_tensors='pt')\n",
    "    out = model(inputs)['cls']\n",
    "    res = out.argmax(dim=1).item()\n",
    "    return list(ATT_TABLE.keys())[res]"
   ]
  },
  {
   "cell_type": "code",
   "execution_count": 10,
   "metadata": {},
   "outputs": [],
   "source": [
    "# 导入模型\n",
    "model = torch.load('./models/attitude_classify.model')"
   ]
  },
  {
   "cell_type": "code",
   "execution_count": 11,
   "metadata": {},
   "outputs": [
    {
     "data": {
      "text/plain": [
       "'肯定'"
      ]
     },
     "execution_count": 11,
     "metadata": {},
     "output_type": "execute_result"
    }
   ],
   "source": [
    "dataset.train = False\n",
    "classify(model, '呵呵呵呵')"
   ]
  },
  {
   "attachments": {},
   "cell_type": "markdown",
   "metadata": {},
   "source": [
    "### 测试"
   ]
  },
  {
   "cell_type": "code",
   "execution_count": 16,
   "metadata": {},
   "outputs": [
    {
     "name": "stderr",
     "output_type": "stream",
     "text": [
      " 11%|█▏        | 5/44 [00:04<00:30,  1.26it/s]"
     ]
    }
   ],
   "source": [
    "def precision(model, dataset):\n",
    "    total = correct = 0\n",
    "    model = model.eval()\n",
    "    dataset.train = False\n",
    "    loader = torch.utils.data.DataLoader(dataset=dataset, batch_size=4, collate_fn=collate_fn, drop_last=True)\n",
    "\n",
    "    for inputs in tqdm(loader):\n",
    "        out = model(**inputs)['cls']\n",
    "        res = out.argmax(dim=1)\n",
    "        # 选择label\n",
    "        std = inputs['labels']\n",
    "        # 计算正确数\n",
    "        correct += (std == res).sum()\n",
    "        total += len(std)\n",
    "\n",
    "    return correct / total\n",
    "\n",
    "precision(model, dataset)"
   ]
  },
  {
   "cell_type": "code",
   "execution_count": null,
   "metadata": {},
   "outputs": [],
   "source": []
  }
 ],
 "metadata": {
  "kernelspec": {
   "display_name": "beatsleo",
   "language": "python",
   "name": "python3"
  },
  "language_info": {
   "codemirror_mode": {
    "name": "ipython",
    "version": 3
   },
   "file_extension": ".py",
   "mimetype": "text/x-python",
   "name": "python",
   "nbconvert_exporter": "python",
   "pygments_lexer": "ipython3",
   "version": "3.8.13"
  },
  "orig_nbformat": 4,
  "vscode": {
   "interpreter": {
    "hash": "3c34c0319d0a309be29663e51c48d620a80f809bc34ab561fe0a7ac57c4f65c6"
   }
  }
 },
 "nbformat": 4,
 "nbformat_minor": 2
}
