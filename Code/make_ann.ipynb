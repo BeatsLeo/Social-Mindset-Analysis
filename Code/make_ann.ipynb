{
 "cells": [
  {
   "cell_type": "code",
   "execution_count": 35,
   "metadata": {},
   "outputs": [],
   "source": [
    "import json\n",
    "import random\n",
    "import openpyxl\n",
    "from openpyxl.styles import Alignment"
   ]
  },
  {
   "cell_type": "code",
   "execution_count": 36,
   "metadata": {},
   "outputs": [],
   "source": [
    "with open('./rawdata/weibo.json') as f:\n",
    "    data = json.load(f)"
   ]
  },
  {
   "cell_type": "code",
   "execution_count": 37,
   "metadata": {},
   "outputs": [],
   "source": [
    "events = []\n",
    "posts = []\n",
    "for i in data:\n",
    "    for d in data[i]:\n",
    "        events.append(d['event'])\n",
    "        posts.append(d['post'])"
   ]
  },
  {
   "cell_type": "code",
   "execution_count": 38,
   "metadata": {},
   "outputs": [],
   "source": [
    "def save_excel(posts, events, output_file_name):\n",
    "    \"\"\"\n",
    "    将数据写入xlsx文件\n",
    "    \"\"\"\n",
    "    if not output_file_name.endswith('.xlsx'):\n",
    "        output_file_name += '.xlsx'\n",
    " \n",
    "    # 创建一个workbook对象，而且会在workbook中至少创建一个表worksheet\n",
    "    wb = openpyxl.Workbook()\n",
    "    # 获取当前活跃的worksheet,默认就是第一个worksheet\n",
    "    ws = wb.active\n",
    "    align = Alignment(horizontal='center', vertical='center', wrap_text=True)\n",
    "    ws.column_dimensions['A'].width = 40.0\n",
    "    ws.column_dimensions['B'].width = 40.0\n",
    "\n",
    "    # 写入表头\n",
    "    ws.cell(row=1, column=1).value = '原文本数据'\n",
    "    ws.cell(row=1, column=2).value = '标签数据（摘要）'\n",
    "    ws.cell(row=1, column=1).alignment = align\n",
    "    ws.cell(row=1, column=2).alignment = align\n",
    "\n",
    "    for i in range(len(posts)):\n",
    "        ws.cell(row=2+i, column=1).value = posts[i]\n",
    "        ws.cell(row=2+i, column=1).alignment = align\n",
    "        if(events[i] != 'None'):\n",
    "            ws.cell(row=2+i, column=2).value = events[i]\n",
    "        ws.cell(row=2+i, column=2).alignment = align\n",
    " \n",
    "    # 保存表格\n",
    "    wb.save(filename=output_file_name)\n",
    "    return True"
   ]
  },
  {
   "cell_type": "code",
   "execution_count": 39,
   "metadata": {},
   "outputs": [],
   "source": [
    "tp = list(zip(posts,events))\n",
    "random.shuffle(tp)\n",
    "posts = [i[0] for i in tp]\n",
    "events = [i[1] for i in tp]\n",
    "\n",
    "lens = len(posts)\n",
    "t = int(len(posts) / 5)\n",
    "names = ['李帅', '周云弈', '刘熠杨', '周芳妍', '刘天一']\n",
    "for i in range(5):\n",
    "    save_excel(posts[i*t:(i+1)*t], events[i*t:(i+1)*t], f'./dataset/text_summary/text_summary_{names[i]}.xlsx')"
   ]
  },
  {
   "cell_type": "code",
   "execution_count": 40,
   "metadata": {},
   "outputs": [
    {
     "data": {
      "text/plain": [
       "True"
      ]
     },
     "execution_count": 40,
     "metadata": {},
     "output_type": "execute_result"
    }
   ],
   "source": [
    "'   '.strip() == ''"
   ]
  },
  {
   "cell_type": "code",
   "execution_count": null,
   "metadata": {},
   "outputs": [],
   "source": []
  }
 ],
 "metadata": {
  "kernelspec": {
   "display_name": "beatsleo",
   "language": "python",
   "name": "python3"
  },
  "language_info": {
   "codemirror_mode": {
    "name": "ipython",
    "version": 3
   },
   "file_extension": ".py",
   "mimetype": "text/x-python",
   "name": "python",
   "nbconvert_exporter": "python",
   "pygments_lexer": "ipython3",
   "version": "3.8.13"
  },
  "orig_nbformat": 4,
  "vscode": {
   "interpreter": {
    "hash": "3c34c0319d0a309be29663e51c48d620a80f809bc34ab561fe0a7ac57c4f65c6"
   }
  }
 },
 "nbformat": 4,
 "nbformat_minor": 2
}
