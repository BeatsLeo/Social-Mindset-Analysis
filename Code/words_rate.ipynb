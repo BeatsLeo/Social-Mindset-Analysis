{
 "cells": [
  {
   "cell_type": "code",
   "execution_count": 2,
   "metadata": {},
   "outputs": [],
   "source": [
    "import json\n",
    "import torch\n",
    "import pandas\n",
    "from ltp import LTP\n",
    "from tqdm import tqdm"
   ]
  },
  {
   "cell_type": "code",
   "execution_count": null,
   "metadata": {},
   "outputs": [],
   "source": [
    "data = json.load(open(\"./rawdata/weibo3.json\", \"r\", encoding=\"utf-8\"))\n",
    "sentences = []\n",
    "for key in data:\n",
    "    for d in data[key]:\n",
    "        sentences.append(d['post'])\n",
    "        for comment in d['comments']:\n",
    "            sentences.append(comment['content'])"
   ]
  },
  {
   "attachments": {},
   "cell_type": "markdown",
   "metadata": {},
   "source": [
    "### 加载停用词表"
   ]
  },
  {
   "cell_type": "code",
   "execution_count": null,
   "metadata": {},
   "outputs": [],
   "source": [
    "# with open(\"./dataset/key_words/stopwords-master/\", \"r\") as f:"
   ]
  },
  {
   "cell_type": "code",
   "execution_count": 3,
   "metadata": {},
   "outputs": [
    {
     "data": {
      "text/plain": [
       "LTPOutput(cws=[['焦作市', '姬某', '冒充', '女', '大学生', '诈骗', '男', '网友', '获', '刑罚']], pos=None, ner=None, srl=None, dep=None, sdp=None, sdpg=None)"
      ]
     },
     "execution_count": 3,
     "metadata": {},
     "output_type": "execute_result"
    }
   ],
   "source": [
    "ltp = LTP()\n",
    "if torch.cuda.is_available():\n",
    "    ltp.to(\"cuda\")\n",
    "ltp.pipeline(['焦作市姬某冒充女大学生诈骗男网友获刑罚'], tasks=['cws', 'pos'])"
   ]
  },
  {
   "cell_type": "code",
   "execution_count": null,
   "metadata": {},
   "outputs": [],
   "source": [
    "bc = 1000\n",
    "iters = int(len(sentences) / 1000)\n",
    "final_words = []\n",
    "for i in tqdm(range(iters)):\n",
    "    words = ltp.pipeline(sentences[i*1000:(i+1)*1000], tasks = [\"cws\"], return_dict = False)\n",
    "    for w in words[0]:\n",
    "        final_words += w\n",
    "\n",
    "final_words = pandas.Series(final_words)\n",
    "final_words = list(final_words.value_counts().items())\n",
    "\n",
    "with open(\"./dataset/key_words/keywords1.txt\", \"w\") as f:\n",
    "    for i in final_words:\n",
    "        f.write(i[0] + str(i[1]), \"\\n\")"
   ]
  },
  {
   "cell_type": "code",
   "execution_count": null,
   "metadata": {},
   "outputs": [],
   "source": []
  }
 ],
 "metadata": {
  "kernelspec": {
   "display_name": "beatsleo",
   "language": "python",
   "name": "python3"
  },
  "language_info": {
   "codemirror_mode": {
    "name": "ipython",
    "version": 3
   },
   "file_extension": ".py",
   "mimetype": "text/x-python",
   "name": "python",
   "nbconvert_exporter": "python",
   "pygments_lexer": "ipython3",
   "version": "3.8.13"
  },
  "orig_nbformat": 4,
  "vscode": {
   "interpreter": {
    "hash": "3c34c0319d0a309be29663e51c48d620a80f809bc34ab561fe0a7ac57c4f65c6"
   }
  }
 },
 "nbformat": 4,
 "nbformat_minor": 2
}
