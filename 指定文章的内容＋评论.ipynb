{
 "cells": [
  {
   "cell_type": "code",
   "execution_count": 1,
   "metadata": {},
   "outputs": [],
   "source": [
    "import requests\n",
    "import re\n",
    "from lxml import etree\n",
    "import time\n",
    "import csv\n",
    "from bs4 import BeautifulSoup\n",
    "import json\n",
    "import pickle"
   ]
  },
  {
   "cell_type": "code",
   "execution_count": 2,
   "metadata": {},
   "outputs": [],
   "source": [
    "headers = {\n",
    "\"cookie\":\"BAIDU_SSP_lcr=https://cn.bing.com/; SUB=_2A25OxGW4DeRhGeBG7FsQ9SnKzzuIHXVqRwvwrDV6PUJbktANLUKhkW1NQefZ6IjAuIu5ei0HfjjD0nq8JHq62f5u; SUBP=0033WrSXqPxfM725Ws9jqgMF55529P9D9WWcUF0gHI_M8h5ywJreSgBx5NHD95Qc1hM4eK-NSoBNWs4DqcjEi--Xi-i2i-27i--Xi-zRiKy2i--Ri-z7iK.4i--NiKLWiKnXi--RiKyFi-2c1KBEeK.t; SSOLoginState=1673532904; _T_WM=55736388746; WEIBOCN_FROM=1110006030; MLOGIN=1; BAIDU_SSP_lcr=https://cn.bing.com/; __bid_n=185a8cf0148ab105024207; FPTOKEN=DFj0i4fBOm0iJp11KG1ftoOTQ7Hn88cjf3GkjuYd3hC5q+zJXAk+JWdL+jStk3FzvQ5lj+crzXrcTFC/EitxHMbGQpV/ul+BcpPtfkzhjoSSdBluN5l6cIDgL/kstqh+tQFnVgRj3cK4YEaYupHI6Kv5pLvuynkrRsUswQHwi43D07XHmDUodfrG+H3oDV0o1EDgDYpkmz4PAakm3+AWeuXZlkGtGsckl5/KHDvdhGzqttI+BKBauFax4XA/JR9p/cyJmXrw0uNbwJZZZi/NKBmzJKOQo4/giGLWcDEn69ZdLIrZm9+znSZz1uuSSwBopF5uYFly3kAkV/avB0k7hDk+ETKVNbZ+4oF/f05Y8lpV+fXDkJyCNoNM02f7afm07lsJefiBYItVdspVZ+28qQ==|QoQ/qKJIsbFv9vEcKhrMmc1BQ80s+A5E/q22MX8ChEw=|10|ecaa752b980fbae8d1349f457888ddae; XSRF-TOKEN=adde7f; M_WEIBOCN_PARAMS=oid%3D4857105729459510%26luicode%3D20000061%26lfid%3D4857105729459510\",\n",
    "\"referer\": \"https://m.weibo.cn/\",\n",
    "\"user-agent\": \"Mozilla/5.0 (Windows NT 10.0; Win64; x64) AppleWebKit/537.36 (KHTML, like Gecko) Chrome/108.0.0.0 Safari/537.36 Edg/108.0.1462.76\"\n",
    "}\n",
    "text_url = 'https://m.weibo.cn/detail/4857105729459510'\n",
    "# content_url = 'https://m.weibo.cn/comments/hotflow?id=4857105729459510&mid=4857105729459510&max_id=141476389057508&max_id_type=0'\n",
    "content_url = 'https://m.weibo.cn/comments/hotflow?id=4857105729459510&mid=4857105729459510&max_id_type=0'\n",
    "# 下一条评论的url\n",
    "next_content_url = ''\n",
    "\n",
    "#数据结构\n",
    "output_data = {\n",
    "    'event': None, \n",
    "    'post': 'xxx',\n",
    "    'time': 'xxxx-xx-xx', \n",
    "    'comments': []\n",
    "}\n",
    "one_comment = {\n",
    "    'content': 'xxx', # 评论内容\n",
    "    'time': 'xxxx-xx-xx', # 评论时间\n",
    "    'ip': 'xxx' # 评论发布者的IP位置信息\n",
    "}"
   ]
  },
  {
   "cell_type": "code",
   "execution_count": 3,
   "metadata": {},
   "outputs": [],
   "source": [
    "def get_month(m_str):\n",
    "    mouth = ''\n",
    "    # print(m_str)\n",
    "    if m_str =='Jan':\n",
    "        mouth='01'\n",
    "    elif m_str =='Feb':\n",
    "        mouth='02'\n",
    "    elif m_str =='Mar':\n",
    "        mouth='03'\n",
    "    elif m_str =='Apr':\n",
    "        mouth='04'\n",
    "    elif m_str =='May':\n",
    "        mouth='05'\n",
    "    elif m_str =='Jun':\n",
    "        mouth='06'\n",
    "    elif m_str =='Jul':\n",
    "        mouth='07'\n",
    "    elif m_str =='Aug':\n",
    "        mouth='08'\n",
    "    elif m_str =='Sept':\n",
    "        mouth='09'\n",
    "    elif m_str =='Oct':\n",
    "        mouth='10'\n",
    "    elif m_str =='Nov':\n",
    "        mouth='11'\n",
    "    elif m_str =='Dec':\n",
    "        mouth='12'\n",
    "    return mouth\n",
    "\n",
    "def get_next_comtent_url(get_comtent_num,content_url,max_id,max_id_type):\n",
    "    next_comtent_url = ''\n",
    "    if(get_comtent_num == 0):\n",
    "        content_url = content_url[:-14]\n",
    "    else:\n",
    "        content_url_list = content_url.split('&')\n",
    "        content_url = content_url_list[0] +'&' + content_url_list[1]\n",
    "    # content_url_list = content_url.split('&')\n",
    "    # content_url = content_url_list[0] +'&' + content_url_list[1]\n",
    "    next_comtent_url = content_url + f\"&max_id={max_id}\" + max_id_type\n",
    "    print(next_comtent_url)\n",
    "    # print(max_id)\n",
    "    return next_comtent_url\n"
   ]
  },
  {
   "cell_type": "code",
   "execution_count": 4,
   "metadata": {},
   "outputs": [],
   "source": [
    "def get_info(text_url,content_url,max_epoch,filename):\n",
    "    #获取文章信息\n",
    "    text_resp = requests.get(text_url,headers=headers)\n",
    "    tmp_text_resp = text_resp.text\n",
    "    # print(len(text_resp))\n",
    "    soup = BeautifulSoup(tmp_text_resp,'lxml') \n",
    "    # print(soup)\n",
    "    tag_list = soup.find_all('script')\n",
    "    # print(len(tag_list))\n",
    "    id = 0\n",
    "    for tag in tag_list:\n",
    "        # print(tag.text)\n",
    "        post = re.findall(r'.*\"text\": \"(.*)\"',tag.text)\n",
    "        # post = post[0]\n",
    "        if(post):\n",
    "            # print(type(post))\n",
    "            post = post[0]\n",
    "            # print(post)\n",
    "            post = re.sub(\"<a.*\", \"\", post)\n",
    "\n",
    "            event = post.split(\"#\")\n",
    "            if(len(event) == 1):\n",
    "                event=\"None\"\n",
    "            else:\n",
    "                event = event[0]\n",
    "\n",
    "            text_time = re.findall(r'.*\"edit_at\": \"(.*)\"',tag.text)\n",
    "            text_time = text_time[0].split()\n",
    "            # print(time)\n",
    "            text_time = text_time[-1] + '-' + get_month(text_time[-5]) + '-' + text_time[-4]\n",
    "            break\n",
    "    # print(event)\n",
    "    # print(post)\n",
    "    # print(text_time)\n",
    "    output_data['event'] = event\n",
    "    output_data['post'] = post\n",
    "    output_data['time'] = text_time\n",
    "    #获取评论信息\n",
    "    for comtent_num in range(max_epoch):\n",
    "        print(\"当前执行至epoch:\", comtent_num)\n",
    "        content_resp = requests.get(content_url,headers=headers).json()\n",
    "        tmp_data = content_resp['data']\n",
    "        # 获取下一组评论的url\n",
    "        max_id = str(tmp_data['max_id'])\n",
    "        max_id_type = \"&max_id_type=\"+str(tmp_data['max_id_type'])\n",
    "        content_url = get_next_comtent_url(comtent_num,content_url,max_id,max_id_type)\n",
    "        # 解析评论数据\n",
    "        data = tmp_data['data']\n",
    "        for item in data:\n",
    "            content = item['text']\n",
    "            # result = re.sub(r'<span.*</span>?','',content)\n",
    "            # if result:\n",
    "            #     content = result\n",
    "            # print(content)\n",
    "            content = re.sub(\"[^\\u4e00-\\u9fa5\\u3002*\\uff0c*\\uff1f*]\", \"\", content)\n",
    "\n",
    "            tmp_time = item['created_at'].split()\n",
    "            the_time = tmp_time[-1] + '-' + get_month(tmp_time[-5]) + '-' + tmp_time[-4]\n",
    "            ip = re.sub(r'来自','',item['source'])\n",
    "            like = item['like_count']\n",
    "            one_comment = {\n",
    "            'content': content,\n",
    "            'time': the_time,\n",
    "            'ip': ip,\n",
    "            'like':like\n",
    "            }\n",
    "            output_data[\"comments\"].append(one_comment)\n",
    "        time.sleep(1)\n",
    "\n",
    "    #将评论和文章信息写入文件\n",
    "    with open(filename, 'w') as f:\n",
    "        json.dump(output_data, f)\n",
    "        f.close()"
   ]
  },
  {
   "cell_type": "code",
   "execution_count": 5,
   "metadata": {},
   "outputs": [
    {
     "name": "stdout",
     "output_type": "stream",
     "text": [
      "当前执行至epoch: 0\n",
      "https://m.weibo.cn/comments/hotflow?id=4857105729459510&mid=4857105729459510&max_id=141476389057508&max_id_type=0\n",
      "当前执行至epoch: 1\n",
      "https://m.weibo.cn/comments/hotflow?id=4857105729459510&mid=4857105729459510&max_id=139277365389399&max_id_type=0\n",
      "当前执行至epoch: 2\n",
      "https://m.weibo.cn/comments/hotflow?id=4857105729459510&mid=4857105729459510&max_id=138865049263323&max_id_type=0\n",
      "当前执行至epoch: 3\n",
      "https://m.weibo.cn/comments/hotflow?id=4857105729459510&mid=4857105729459510&max_id=138590170998819&max_id_type=0\n",
      "当前执行至epoch: 4\n",
      "https://m.weibo.cn/comments/hotflow?id=4857105729459510&mid=4857105729459510&max_id=138177858233348&max_id_type=0\n",
      "当前执行至epoch: 5\n",
      "https://m.weibo.cn/comments/hotflow?id=4857105729459510&mid=4857105729459510&max_id=138177856441485&max_id_type=0\n",
      "当前执行至epoch: 6\n",
      "https://m.weibo.cn/comments/hotflow?id=4857105729459510&mid=4857105729459510&max_id=138177856323439&max_id_type=0\n",
      "当前执行至epoch: 7\n",
      "https://m.weibo.cn/comments/hotflow?id=4857105729459510&mid=4857105729459510&max_id=138177856106412&max_id_type=0\n",
      "当前执行至epoch: 8\n",
      "https://m.weibo.cn/comments/hotflow?id=4857105729459510&mid=4857105729459510&max_id=138177855480323&max_id_type=0\n",
      "当前执行至epoch: 9\n",
      "https://m.weibo.cn/comments/hotflow?id=4857105729459510&mid=4857105729459510&max_id=138177855285150&max_id_type=0\n"
     ]
    }
   ],
   "source": [
    "max_epoch = 10\n",
    "filename = 'weibo.json'\n",
    "get_info(text_url,content_url,max_epoch,filename)"
   ]
  },
  {
   "cell_type": "code",
   "execution_count": 6,
   "metadata": {},
   "outputs": [
    {
     "name": "stdout",
     "output_type": "stream",
     "text": [
      "{'event': 'None', 'post': '【王思聪疑因打人被拘提请行政复议 律师：复议机关受理后应在60日内作出决定】1月12日，上海静安警方发布通报，称11日4时许接报南京西路一商务楼门口有人被打。因王某某等提请行政复议，警方对四人暂缓执行行政拘留。据新京报我们视频报道，有权威人士证实事件中的王某某正是王思聪。河南泽槿律师事务所主任付建律师表示，行政复议被受理后，复议机关应当自受理之日起60日内作出行政复议决定，情况复杂的，经复议机关负责人批准，可以适当延长，并告知申请人和被申请人，但是延长期限最多不超过30日，“如果申请人不服行政复议决定的，自收到行政复议决定书之日起15日内，可向人民法院提起行政诉讼。”', 'time': '2023-01-12', 'comments': [{'content': '七天又不影响过年，复议啥啊', 'time': '2023-01-12', 'ip': '江苏', 'like': 1929}, {'content': '果然公子哥就是不一样', 'time': '2023-01-12', 'ip': '北京', 'like': 1380}, {'content': '看看法大还是钱大哈哈赞', 'time': '2023-01-12', 'ip': '浙江', 'like': 1125}, {'content': '换做别人哪会有机会提出行政复议，不都是直接拉进拘留所哈哈哈哈', 'time': '2023-01-12', 'ip': '广东', 'like': 731}, {'content': '钞能力一下就体现出来了', 'time': '2023-01-12', 'ip': '四川', 'like': 489}, {'content': '不明白为啥评论戾气那么重啊，对于行政处罚提起行政复议是每个公民的权利，不是因为他有钱他才能提起来，换谁挨处罚了都能。乱停车那个罚单上不都明确写着呢可以提出复议啊', 'time': '2023-01-12', 'ip': '河南', 'like': 351}, {'content': '钱是个好东西', 'time': '2023-01-12', 'ip': '北京', 'like': 232}, {'content': '老王在里面消停天也不是什么坏事', 'time': '2023-01-12', 'ip': '广西', 'like': 104}, {'content': '有钱就能摆平', 'time': '2023-01-12', 'ip': '北京', 'like': 139}, {'content': '支持拘留', 'time': '2023-01-12', 'ip': '黑龙江', 'like': 98}, {'content': '法律是保护人民群众的还是保护有钱人的？', 'time': '2023-01-12', 'ip': '北京', 'like': 52}, {'content': '新一年就遇贵人，要是我，我就打开买房看看那个房子好嘻嘻', 'time': '2023-01-12', 'ip': '广东', 'like': 64}, {'content': '法律面前人人不等？？？？', 'time': '2023-01-12', 'ip': '山东', 'like': 52}, {'content': '轻伤不是入刑的吗', 'time': '2023-01-12', 'ip': '云南', 'like': 46}, {'content': '不是有钱摆平。是有钱请了律师。懂法。', 'time': '2023-01-12', 'ip': '湖北', 'like': 57}, {'content': '他打人有什么奇怪的挖鼻', 'time': '2023-01-12', 'ip': '江西', 'like': 39}, {'content': '放古代就一纨绔子弟', 'time': '2023-01-12', 'ip': '湖北', 'like': 23}, {'content': '就算进去了，直接保外就医。', 'time': '2023-01-12', 'ip': '河北', 'like': 23}, {'content': '不会影响出境吧', 'time': '2023-01-12', 'ip': '山东', 'like': 14}, {'content': '东莞市车友驾校公司长期伪造使用三枚交通局印章与东莞市交警支队车管所勾结，制造出大量的没有经过培训考试连刹车油门都不会踩的马路杀手驾驶证，非法获利上千万元，东莞市交通局已经报案。但，犯罪嫌疑人在伞的保护下一直在逍遥法外。央视新闻央视新闻平安东莞平安东莞', 'time': '2023-01-12', 'ip': '广东', 'like': 11}, {'content': '我只担心闹大了被打的人会不会被报复', 'time': '2023-01-12', 'ip': '云南', 'like': 11}, {'content': '一般人不可能在拘留之前就成功提请复议而免于拘留，王先生真是大能', 'time': '2023-01-12', 'ip': '广东', 'like': 15}, {'content': '以公子的财力，余生每天可以出门随便打人不带眨眼的', 'time': '2023-01-12', 'ip': '福建', 'like': 12}, {'content': '这特码的不就为了能回家过年吗，天后跑出国了', 'time': '2023-01-12', 'ip': '山东', 'like': 3}, {'content': '允悲人民币力量', 'time': '2023-01-12', 'ip': '北京', 'like': 8}, {'content': '网友们，麻烦看看治安管理处罚法吧，轻微伤不是情伤，不入刑。还有暂缓执行，只要提出复议，都会暂缓的。这是法律规定的。', 'time': '2023-01-12', 'ip': '浙江', 'like': 15}, {'content': '打人就是打人这是事实，复议啥', 'time': '2023-01-12', 'ip': '广东', 'like': 2}, {'content': '对它来说多大点事', 'time': '2023-01-12', 'ip': '广西', 'like': 2}, {'content': '思聪说，我想打就打，我还能不坐牢，你能把我咋滴？', 'time': '2023-01-12', 'ip': '北京', 'like': 10}, {'content': '多大个人了一点也不像有钱人这小事还用自己动手？这事喊一嗓子想过年挣钱的人多了', 'time': '2023-01-12', 'ip': '吉林', 'like': 8}, {'content': '嚯哇', 'time': '2023-01-12', 'ip': '山东', 'like': 5}, {'content': '为了过年，想尽办法了。可能也不用执行，毕竟有钱。', 'time': '2023-01-12', 'ip': '浙江', 'like': 6}, {'content': '都三十四了', 'time': '2023-01-12', 'ip': '江苏', 'like': 1}, {'content': '有钱就是嚣张，连消息都不方便透露，不知我用无法无天这词可以么哆啦梦害怕', 'time': '2023-01-12', 'ip': '河北', 'like': 3}, {'content': '钞能力', 'time': '2023-01-12', 'ip': '浙江', 'like': 3}, {'content': '行政复议期间，并不影响行政强制的执行，但被申请人认为需要停止执行的行政复议机关认为需要停止执行等情形除外。', 'time': '2023-01-12', 'ip': '北京', 'like': 3}, {'content': '我也是这么想的允悲什么合理理由，可以暂缓停止执行费解允悲可能是到位了回复该睡觉了捏该睡觉了捏拉倒吧，普通人申请复议适用的条款是行政复议期间不中止执行。王思聪是这么多年来我听说的第一个打架行政拘留申请复议暂缓执行的。七天又不影响过年，复议啥啊', 'time': '2023-01-12', 'ip': '北京', 'like': 0}, {'content': '被偷拍不能打人吗', 'time': '2023-01-12', 'ip': '中国', 'like': 5}, {'content': '公安机关办理行政案件程序规定第一百九十六条被处罚人不服行政拘留处罚决定，申请行政复议或者提起行政诉讼的，可以向作出行政拘留决定的公安机关提出暂缓执行行政拘留的申请第二百条在暂缓执行行政拘留期间，被处罚人应当遵守下列规定一未经决定机关批准不得离开所居住的市县', 'time': '2023-01-12', 'ip': '北京', 'like': 1}, {'content': '应该是美刀允悲', 'time': '2023-01-12', 'ip': '湖北', 'like': 3}, {'content': '这有什么好复议的，直接在里面过年就行了。听说里面没空调，被子都是潮的。', 'time': '2023-01-12', 'ip': '河南', 'like': 6}, {'content': '他是懂法律的', 'time': '2023-01-12', 'ip': '陕西', 'like': 11}, {'content': '不关？', 'time': '2023-01-13', 'ip': '河北', 'like': 0}, {'content': '校长怒了？允悲', 'time': '2023-01-12', 'ip': '四川', 'like': 0}, {'content': '国民老公人设崩塌了没', 'time': '2023-01-12', 'ip': '广东', 'like': 0}, {'content': '才天块？那我明天也找三个人把我讨厌的人狠狠打一顿鼻子打骨折', 'time': '2023-01-12', 'ip': '陕西', 'like': 0}, {'content': '允悲要是进去天，也对不起王校长的名字', 'time': '2023-01-12', 'ip': '广东', 'like': 1}, {'content': '等事情没有热度以后再出手抚平，某些没骨头部门一贯的做法', 'time': '2023-01-12', 'ip': '广东', 'like': 0}, {'content': '我也特别讨厌最痛恨有小人坏人偷拍我', 'time': '2023-01-12', 'ip': '四川', 'like': 0}, {'content': '思葱爱你超能力', 'time': '2023-01-12', 'ip': '上海', 'like': 0}, {'content': '最近刚办过一个治安处罚的行政复议，基本维持，不变。', 'time': '2023-01-12', 'ip': '上海', 'like': 0}, {'content': '羡慕别人有钱的。别酸。回家问问自己爸爸为什么不是王健林。。好好赚钱。让自己孩子成为王思聪。。。天天骂有什么用。权利给你。你自己不会用。钱又不舍得花。。', 'time': '2023-01-12', 'ip': '安徽', 'like': 1}, {'content': '赞', 'time': '2023-01-12', 'ip': '湖南', 'like': 0}, {'content': '中华人民共和国治安管理处罚法规定殴打故意伤害他人的行为和处罚殴打他人，或者故意伤害他人身体的，处日以上日以下拘留，并处元以上元以下罚款情节较轻的，处日以下拘留或者元以下罚款。', 'time': '2023-01-12', 'ip': '广东', 'like': 1}, {'content': '凭实力搞的官家饭为什么不吃？', 'time': '2023-01-12', 'ip': '广东', 'like': 0}, {'content': '故意殴打他人行政拘留没毛病啊', 'time': '2023-01-12', 'ip': '内蒙古', 'like': 0}, {'content': '这要是打的我，我祝王老板生意兴隆事业有成家庭和和美美身体健健康康。看多少合适给点，就当可怜我了', 'time': '2023-01-12', 'ip': '山东', 'like': 0}, {'content': '钱是好东西', 'time': '2023-01-12', 'ip': '江苏', 'like': 0}, {'content': '牛啊，搞完霓虹女，继续打人', 'time': '2023-01-12', 'ip': '江苏', 'like': 1}, {'content': '我是觉得别人如果偷拍，惹怒了被揍是合情理得不要没有血性该揍就得揍现在被搞的一个个唯唯诺诺', 'time': '2023-01-12', 'ip': '上海', 'like': 13}, {'content': '转发微博', 'time': '2023-01-12', 'ip': '美国', 'like': 1}, {'content': '养生少女小萝北养生少女小萝北', 'time': '2023-01-12', 'ip': '广东', 'like': 1}, {'content': '最后是不是和解了？', 'time': '2023-01-12', 'ip': '广东', 'like': 6}, {'content': '天出结果那时候人早就去国外啦上哪拘天哈哈', 'time': '2023-01-13', 'ip': '加拿大', 'like': 0}, {'content': '才罚草泥马', 'time': '2023-01-12', 'ip': '河北', 'like': 0}, {'content': '法律正常手续，每个个体该有的权利，有啥好喷的', 'time': '2023-01-12', 'ip': '上海', 'like': 0}, {'content': '都来刚我，我贴个法条依据吧治安管理处罚法一百零七条', 'time': '2023-01-12', 'ip': '河南', 'like': 0}, {'content': '', 'time': '2023-01-12', 'ip': '陕西', 'like': 0}, {'content': '抓紧似吧', 'time': '2023-01-12', 'ip': '河南', 'like': 0}, {'content': '跟唐山打人有啥区别', 'time': '2023-01-12', 'ip': '江苏', 'like': 0}, {'content': '钱能搞定的事', 'time': '2023-01-12', 'ip': '上海', 'like': 0}, {'content': '颠覆了我对富二代的刻板形象', 'time': '2023-01-12', 'ip': '天津', 'like': 0}, {'content': '真的不要让我失望温州胡教练温州胡教练看看法大还是钱大哈哈赞', 'time': '2023-01-12', 'ip': '上海', 'like': 0}, {'content': '这就是钞能力嘛', 'time': '2023-01-12', 'ip': '福建', 'like': 0}, {'content': '', 'time': '2023-01-12', 'ip': '河北', 'like': 0}, {'content': '严判允悲王子犯法与民同罪允悲', 'time': '2023-01-12', 'ip': '北京', 'like': 0}, {'content': '当事人谁也别管，我要私了春游家族', 'time': '2023-01-12', 'ip': '陕西', 'like': 0}, {'content': '等着看了', 'time': '2023-01-12', 'ip': '山东', 'like': 1}, {'content': '头一次想被打', 'time': '2023-01-12', 'ip': '安徽', 'like': 5}, {'content': '这人遇到贵人了泪', 'time': '2023-01-12', 'ip': '安徽', 'like': 5}, {'content': '果然有钱就是棒这就是当今社会二哈', 'time': '2023-01-12', 'ip': '福建', 'like': 2}, {'content': '怎么不打我呢，一辈子不用奋斗了', 'time': '2023-01-12', 'ip': '河南', 'like': 1}, {'content': '我是来找有没有人喊一百万就可以的', 'time': '2023-01-12', 'ip': '江苏', 'like': 1}, {'content': '法律面前人人平等二哈', 'time': '2023-01-12', 'ip': '广西', 'like': 1}, {'content': '我不知道为什么往钱啊资本上引战。没拍，就拿出手机证明一下，现场不啥都解决了？还有现场视频有没有？谁先动手的？我们都不了解啊', 'time': '2023-01-12', 'ip': '辽宁', 'like': 1}, {'content': '小霸王不省心呢', 'time': '2023-01-12', 'ip': '北京', 'like': 1}, {'content': '有钱无罪无钱有罪啦', 'time': '2023-01-12', 'ip': '河北', 'like': 1}, {'content': '言语挑衅造成后果的话怎么判', 'time': '2023-01-12', 'ip': '广西', 'like': 1}, {'content': '王健林表示把派所买了', 'time': '2023-01-12', 'ip': '天津', 'like': 1}, {'content': '关他几天，省的烦人', 'time': '2023-01-12', 'ip': '湖南', 'like': 2}, {'content': '王思聪都摆烂了，还怕这个吗笑', 'time': '2023-01-12', 'ip': '湖北', 'like': 1}, {'content': '有钱能使磨推鬼哪有主义只有生意', 'time': '2023-01-12', 'ip': '山东', 'like': 1}, {'content': '那就马上做出维持啊。正好过年进去七天合适了。', 'time': '2023-01-13', 'ip': '广西', 'like': 0}, {'content': '长相就挺奇怪', 'time': '2023-01-13', 'ip': '河北', 'like': 0}, {'content': '法与钱的较量', 'time': '2023-01-12', 'ip': '上海', 'like': 0}, {'content': '我站撕葱打得没错。让别拍了别拍了。还拍活该被打。但是打人该承担的还得承担', 'time': '2023-01-12', 'ip': '浙江', 'like': 0}, {'content': '压力全在复议部门了笑', 'time': '2023-01-12', 'ip': '北京', 'like': 0}, {'content': '法不责有钱人', 'time': '2023-01-12', 'ip': '上海', 'like': 0}, {'content': '', 'time': '2023-01-12', 'ip': '江西', 'like': 0}, {'content': '有钱就是王道', 'time': '2023-01-12', 'ip': '广东', 'like': 0}, {'content': '允悲允悲允悲', 'time': '2023-01-12', 'ip': '四川', 'like': 0}, {'content': '醉驾的企业家都能没事，何况王思聪', 'time': '2023-01-12', 'ip': '广东', 'like': 0}, {'content': '王公子以身试法，依法维权', 'time': '2023-01-12', 'ip': '安徽', 'like': 0}, {'content': '已经到位变成轻微伤了', 'time': '2023-01-12', 'ip': '江苏', 'like': 0}, {'content': '喜提年终奖金', 'time': '2023-01-12', 'ip': '江苏', 'like': 0}, {'content': '在法律面前要做到人人平等，富家子弟也不能例外？？？富二代里的花花公子，绰号国民老公', 'time': '2023-01-12', 'ip': '上海', 'like': 0}, {'content': '评论里说想被打的，王总安排一下', 'time': '2023-01-12', 'ip': '北京', 'like': 0}, {'content': '肯定是钱大于法', 'time': '2023-01-12', 'ip': '云南', 'like': 0}, {'content': '相当于天内啥事没有，然后出钱摆平下陈某，最终来个啥事没有况且天，大众早就忘了这事了', 'time': '2023-01-12', 'ip': '北京', 'like': 0}, {'content': '我今天看到微博热搜就觉得奇怪，为什么一个普通打架的能上微博热搜，原来如此', 'time': '2023-01-12', 'ip': '四川', 'like': 0}, {'content': '我就想知道法律对有钱人有用嘛喵喵。', 'time': '2023-01-12', 'ip': '江苏', 'like': 0}, {'content': '打个几巴掌赔个几十我也可以', 'time': '2023-01-12', 'ip': '云南', 'like': 1}, {'content': '笑天出来还可以过年', 'time': '2023-01-12', 'ip': '广东', 'like': 0}, {'content': '建议春运期间暂时限制出生地为东三省重点管控辽宁省出东北流动，重点监控各省东北地区关联人动向，及时做好应急处置，各区县维稳办，抓紧落实。', 'time': '2023-01-12', 'ip': '河南', 'like': 0}, {'content': '求破累', 'time': '2023-01-12', 'ip': '江苏', 'like': 0}, {'content': '', 'time': '2023-01-12', 'ip': '广东', 'like': 0}, {'content': '和解是个好东西', 'time': '2023-01-12', 'ip': '四川', 'like': 0}, {'content': '钱大于法的案例即将出现在王思聪身上', 'time': '2023-01-12', 'ip': '北京', 'like': 0}, {'content': '好', 'time': '2023-01-12', 'ip': '江苏', 'like': 0}, {'content': '上海王少，，偶像', 'time': '2023-01-12', 'ip': '四川', 'like': 0}, {'content': '我给你，你给我打一拳，鼻梁骨折的那种，太划算了', 'time': '2023-01-12', 'ip': '广东', 'like': 0}, {'content': '他家大法务律师团要不要集体出动啊笑', 'time': '2023-01-12', 'ip': '河北', 'like': 0}, {'content': '打了就是打了别说那么多', 'time': '2023-01-12', 'ip': '广西', 'like': 0}, {'content': '必须严惩', 'time': '2023-01-12', 'ip': '北京', 'like': 0}, {'content': '有钱就是不一样啊，床上可以打姑娘，床下可以干小伙', 'time': '2023-01-12', 'ip': '湖南', 'like': 0}, {'content': '为什么不让拍照了以前很多人拍呀喝酒下去了', 'time': '2023-01-12', 'ip': '福建', 'like': 0}, {'content': '以后打人不想进局子这不就有参考啦还是免费知道的那种', 'time': '2023-01-12', 'ip': '广东', 'like': 0}, {'content': '鼻骨骨折算轻微伤？花钱找关系了吧', 'time': '2023-01-12', 'ip': '北京', 'like': 0}, {'content': '王健林真是计划生育的最大受害者。。。', 'time': '2023-01-12', 'ip': '浙江', 'like': 0}, {'content': '不懂就问，为啥陈继志打人判了二十多年，王却啥事没有，不都是把人打轻伤了吗？', 'time': '2023-01-12', 'ip': '黑龙江', 'like': 0}, {'content': '谁先打谁啊因为啥', 'time': '2023-01-12', 'ip': '北京', 'like': 0}, {'content': '有钱不拘留，没钱就拘留', 'time': '2023-01-12', 'ip': '湖北', 'like': 0}, {'content': '还好是在中国打人，在美国可能会被美式居合', 'time': '2023-01-12', 'ip': '福建', 'like': 0}, {'content': '王总什么，敢抓我思聪？上海民警都别想混了。', 'time': '2023-01-12', 'ip': '河南', 'like': 0}, {'content': '看戏看戏', 'time': '2023-01-12', 'ip': '广东', 'like': 0}, {'content': '公子哥就是不一样啊', 'time': '2023-01-12', 'ip': '重庆', 'like': 0}, {'content': '这时候要是说一句一个巴掌拍不响。大概会被唾沫星子淹死了。可以客观评价，但不能因为人家有钱，就是原罪。。。官方似乎也没说谁一定不对，谁一定对。', 'time': '2023-01-12', 'ip': '江苏', 'like': 0}, {'content': '打人？原因都不提了，有钱是原罪允悲', 'time': '2023-01-12', 'ip': '河南', 'like': 1}, {'content': '因为啥打架啊？', 'time': '2023-01-12', 'ip': '黑龙江', 'like': 0}, {'content': '花点钱就摆平了，那个不要钱', 'time': '2023-01-12', 'ip': '广东', 'like': 0}, {'content': '新年遇贵人，这下可以躺着选辆玛莎拉帝了', 'time': '2023-01-12', 'ip': '四川', 'like': 0}, {'content': '吃瓜小题大做，是为了掩盖昨天的宝马？', 'time': '2023-01-12', 'ip': '广东', 'like': 0}, {'content': '复议也不影响执行的', 'time': '2023-01-12', 'ip': '山东', 'like': 0}, {'content': '法律面前人人平等的铁律，就看在王某某面前有不有效啰，拭目以待', 'time': '2023-01-12', 'ip': '湖北', 'like': 0}, {'content': '打我打我', 'time': '2023-01-12', 'ip': '浙江', 'like': 0}, {'content': '果然有钱就是不一样啊这本来是可以爆的热搜啊', 'time': '2023-01-12', 'ip': '湖北', 'like': 0}, {'content': '天黄花菜都凉了', 'time': '2023-01-12', 'ip': '湖北', 'like': 0}, {'content': '我聪哥有必要亲自动手？', 'time': '2023-01-12', 'ip': '重庆', 'like': 0}, {'content': '暂缓执行行政拘留，普通人有没有机会，哈哈哈', 'time': '2023-01-12', 'ip': '四川', 'like': 0}, {'content': '打你是你的福气吗？', 'time': '2023-01-12', 'ip': '浙江', 'like': 0}, {'content': '有钱任性哈哈', 'time': '2023-01-12', 'ip': '西藏', 'like': 0}, {'content': '万才够，家里那么有钱，才罚', 'time': '2023-01-12', 'ip': '四川', 'like': 0}, {'content': '蹲了一天也没见宝马后续，满屏都是他，这还叫个事吗？', 'time': '2023-01-12', 'ip': '中国香港', 'like': 0}, {'content': '该揍揍死更好', 'time': '2023-01-12', 'ip': '广东', 'like': 0}, {'content': '确定了？', 'time': '2023-01-12', 'ip': '辽宁', 'like': 0}, {'content': '看成打狗', 'time': '2023-01-12', 'ip': '宁夏', 'like': 0}, {'content': '怎么就能断定是呢，我就纳闷了，这帮网友是有多恨有钱人？', 'time': '2023-01-12', 'ip': '辽宁', 'like': 0}, {'content': '吴亦凡这么有钱还不是要进去', 'time': '2023-01-12', 'ip': '广东', 'like': 0}, {'content': '嚣张本人挖鼻', 'time': '2023-01-12', 'ip': '江苏', 'like': 0}, {'content': '要是公子大人更得严惩，在牢里过年', 'time': '2023-01-12', 'ip': '河北', 'like': 0}, {'content': '爱玩裤子的弟弟', 'time': '2023-01-12', 'ip': '吉林', 'like': 0}, {'content': '挨打的哥们能过个好年了，这不给他赚死泪泪咋他打得不是我啊，打个伤出来我好去挣一笔赔款泪泪也就不用考研了泪泪', 'time': '2023-01-12', 'ip': '湖北', 'like': 0}, {'content': '一般都不是拘留好再复议吗。可以提前复议吗', 'time': '2023-01-12', 'ip': '上海', 'like': 0}, {'content': '被打的人拿刀反击攮死他，弄个两死一重伤。', 'time': '2023-01-12', 'ip': '辽宁', 'like': 0}, {'content': '不把挨打的抓起来就一直行政复议爱你', 'time': '2023-01-12', 'ip': '天津', 'like': 0}, {'content': '他绝对不用进去', 'time': '2023-01-12', 'ip': '安徽', 'like': 0}, {'content': '复议机关可以加急一下，在年根底下出结果允悲允悲', 'time': '2023-01-12', 'ip': '山东', 'like': 0}, {'content': '还敢复议，七天太少了', 'time': '2023-01-12', 'ip': '广东', 'like': 0}, {'content': '被他打两圈是一种荣幸。一年的辛苦就靠这一次了嘻嘻嘻嘻嘻嘻嘻嘻嘻嘻', 'time': '2023-01-12', 'ip': '福建', 'like': 0}, {'content': '打到骨折也是挺狠的', 'time': '2023-01-12', 'ip': '陕西', 'like': 0}, {'content': '我次奥，打我吧，我会原谅聪哥', 'time': '2023-01-12', 'ip': '辽宁', 'like': 0}, {'content': '还疑因啥啊', 'time': '2023-01-12', 'ip': '吉林', 'like': 0}, {'content': '求打我挖鼻', 'time': '2023-01-12', 'ip': '北京', 'like': 0}, {'content': '法制法治的悲哀', 'time': '2023-01-12', 'ip': '北京', 'like': 0}, {'content': '有钱都能让鬼推磨，何况这种小事', 'time': '2023-01-12', 'ip': '广东', 'like': 0}, {'content': '原来行政拘留复议就不用拘留了啊', 'time': '2023-01-12', 'ip': '吉林', 'like': 0}, {'content': '能打我吗，我也会拍照嘻嘻嘻嘻', 'time': '2023-01-12', 'ip': '浙江', 'like': 0}, {'content': '笑死，原来真是他', 'time': '2023-01-12', 'ip': '安徽', 'like': 0}, {'content': '不懂法律哈，问个问题。还没关就能提起复议呀？还受理了？要是我打了人，前脚进派出所是不是也可以立马提起复议啊？', 'time': '2023-01-12', 'ip': '北京', 'like': 0}, {'content': '不疑王思聪啊，指名道姓咯', 'time': '2023-01-12', 'ip': '四川', 'like': 0}, {'content': '给钱能出来不', 'time': '2023-01-12', 'ip': '广东', 'like': 0}, {'content': '允悲这是轻微伤呵呵呵年第一笑话', 'time': '2023-01-12', 'ip': '北京', 'like': 0}, {'content': '也不影响我月入啊', 'time': '2023-01-12', 'ip': '上海', 'like': 0}, {'content': '被打者怎么斗得过王思聪，哎可怜啊，被打了还要被气死', 'time': '2023-01-12', 'ip': '四川', 'like': 0}, {'content': '抱一抱能被老王打一顿，第一桶金就来了会不会给张支票你任你写？', 'time': '2023-01-12', 'ip': '广东', 'like': 0}, {'content': '怎么着我都站在我老公这边', 'time': '2023-01-12', 'ip': '北京', 'like': 0}, {'content': '收到允悲', 'time': '2023-01-12', 'ip': '北京', 'like': 0}, {'content': '两人以上结伙殴打他人最少判十日至十五日一下有期徒刑吧？', 'time': '2023-01-12', 'ip': '广东', 'like': 0}, {'content': '不是可以私了吗', 'time': '2023-01-12', 'ip': '广东', 'like': 0}, {'content': '这个新闻的评论可以看出法盲还是多', 'time': '2023-01-12', 'ip': '四川', 'like': 0}, {'content': '保释了大家散席', 'time': '2023-01-12', 'ip': '安徽', 'like': 0}, {'content': '不还手至少奔', 'time': '2023-01-12', 'ip': '山西', 'like': 0}, {'content': '警方看没看被打人手机？有没有拍摄打人着的照片？', 'time': '2023-01-12', 'ip': '辽宁', 'like': 0}, {'content': '还是有律师好', 'time': '2023-01-12', 'ip': '北京', 'like': 0}, {'content': '最后就是赔钱获得谅解', 'time': '2023-01-12', 'ip': '广东', 'like': 0}, {'content': '有血性该干就要干。打狗仔', 'time': '2023-01-12', 'ip': '安徽', 'like': 0}, {'content': '宝，我判刑了，什么刑，我没你就不行', 'time': '2023-01-12', 'ip': '重庆', 'like': 1}, {'content': '给他打一次，起码能拿几百万', 'time': '2023-01-12', 'ip': '广东', 'like': 1}, {'content': '能不能保释。', 'time': '2023-01-12', 'ip': '安徽', 'like': 0}]}\n"
     ]
    }
   ],
   "source": [
    "with open(filename, \"rb\") as fo:\n",
    "   A = json.load(fo, encoding='bytes')\n",
    "   print(A)"
   ]
  },
  {
   "cell_type": "code",
   "execution_count": null,
   "metadata": {},
   "outputs": [],
   "source": []
  }
 ],
 "metadata": {
  "kernelspec": {
   "display_name": "web",
   "language": "python",
   "name": "python3"
  },
  "language_info": {
   "codemirror_mode": {
    "name": "ipython",
    "version": 3
   },
   "file_extension": ".py",
   "mimetype": "text/x-python",
   "name": "python",
   "nbconvert_exporter": "python",
   "pygments_lexer": "ipython3",
   "version": "3.8.15"
  },
  "orig_nbformat": 4,
  "vscode": {
   "interpreter": {
    "hash": "279cfd725bad875b8420b6d51b0a2e7100c016138e8b65746b31ba14437dbd39"
   }
  }
 },
 "nbformat": 4,
 "nbformat_minor": 2
}
